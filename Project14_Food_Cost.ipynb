{
 "cells": [
  {
   "cell_type": "markdown",
   "metadata": {},
   "source": [
    "# Restaurant Food Cost Dataset"
   ]
  },
  {
   "cell_type": "code",
   "execution_count": 341,
   "metadata": {},
   "outputs": [],
   "source": [
    "import numpy as np\n",
    "import pandas as pd\n",
    "import matplotlib.pyplot as plt\n",
    "%matplotlib inline \n",
    "import seaborn as sns\n",
    "import warnings\n",
    "warnings.filterwarnings('ignore')"
   ]
  },
  {
   "cell_type": "code",
   "execution_count": 424,
   "metadata": {},
   "outputs": [],
   "source": [
    "train=pd.read_excel('food_train.xlsx')"
   ]
  },
  {
   "cell_type": "code",
   "execution_count": 425,
   "metadata": {},
   "outputs": [],
   "source": [
    "test=pd.read_excel('food_test.xlsx')"
   ]
  },
  {
   "cell_type": "code",
   "execution_count": 426,
   "metadata": {},
   "outputs": [],
   "source": [
    "df_train=pd.DataFrame(train)"
   ]
  },
  {
   "cell_type": "code",
   "execution_count": 427,
   "metadata": {},
   "outputs": [],
   "source": [
    "df_test=pd.DataFrame(test)"
   ]
  },
  {
   "cell_type": "code",
   "execution_count": 428,
   "metadata": {},
   "outputs": [
    {
     "data": {
      "text/html": [
       "<div>\n",
       "<style scoped>\n",
       "    .dataframe tbody tr th:only-of-type {\n",
       "        vertical-align: middle;\n",
       "    }\n",
       "\n",
       "    .dataframe tbody tr th {\n",
       "        vertical-align: top;\n",
       "    }\n",
       "\n",
       "    .dataframe thead th {\n",
       "        text-align: right;\n",
       "    }\n",
       "</style>\n",
       "<table border=\"1\" class=\"dataframe\">\n",
       "  <thead>\n",
       "    <tr style=\"text-align: right;\">\n",
       "      <th></th>\n",
       "      <th>TITLE</th>\n",
       "      <th>RESTAURANT_ID</th>\n",
       "      <th>CUISINES</th>\n",
       "      <th>TIME</th>\n",
       "      <th>CITY</th>\n",
       "      <th>LOCALITY</th>\n",
       "      <th>RATING</th>\n",
       "      <th>VOTES</th>\n",
       "      <th>COST</th>\n",
       "    </tr>\n",
       "  </thead>\n",
       "  <tbody>\n",
       "    <tr>\n",
       "      <th>0</th>\n",
       "      <td>CASUAL DINING</td>\n",
       "      <td>9438</td>\n",
       "      <td>Malwani, Goan, North Indian</td>\n",
       "      <td>11am – 4pm, 7:30pm – 11:30pm (Mon-Sun)</td>\n",
       "      <td>Thane</td>\n",
       "      <td>Dombivali East</td>\n",
       "      <td>3.6</td>\n",
       "      <td>49 votes</td>\n",
       "      <td>1200</td>\n",
       "    </tr>\n",
       "    <tr>\n",
       "      <th>1</th>\n",
       "      <td>CASUAL DINING,BAR</td>\n",
       "      <td>13198</td>\n",
       "      <td>Asian, Modern Indian, Japanese</td>\n",
       "      <td>6pm – 11pm (Mon-Sun)</td>\n",
       "      <td>Chennai</td>\n",
       "      <td>Ramapuram</td>\n",
       "      <td>4.2</td>\n",
       "      <td>30 votes</td>\n",
       "      <td>1500</td>\n",
       "    </tr>\n",
       "    <tr>\n",
       "      <th>2</th>\n",
       "      <td>CASUAL DINING</td>\n",
       "      <td>10915</td>\n",
       "      <td>North Indian, Chinese, Biryani, Hyderabadi</td>\n",
       "      <td>11am – 3:30pm, 7pm – 11pm (Mon-Sun)</td>\n",
       "      <td>Chennai</td>\n",
       "      <td>Saligramam</td>\n",
       "      <td>3.8</td>\n",
       "      <td>221 votes</td>\n",
       "      <td>800</td>\n",
       "    </tr>\n",
       "    <tr>\n",
       "      <th>3</th>\n",
       "      <td>QUICK BITES</td>\n",
       "      <td>6346</td>\n",
       "      <td>Tibetan, Chinese</td>\n",
       "      <td>11:30am – 1am (Mon-Sun)</td>\n",
       "      <td>Mumbai</td>\n",
       "      <td>Bandra West</td>\n",
       "      <td>4.1</td>\n",
       "      <td>24 votes</td>\n",
       "      <td>800</td>\n",
       "    </tr>\n",
       "    <tr>\n",
       "      <th>4</th>\n",
       "      <td>DESSERT PARLOR</td>\n",
       "      <td>15387</td>\n",
       "      <td>Desserts</td>\n",
       "      <td>11am – 1am (Mon-Sun)</td>\n",
       "      <td>Mumbai</td>\n",
       "      <td>Lower Parel</td>\n",
       "      <td>3.8</td>\n",
       "      <td>165 votes</td>\n",
       "      <td>300</td>\n",
       "    </tr>\n",
       "  </tbody>\n",
       "</table>\n",
       "</div>"
      ],
      "text/plain": [
       "               TITLE  RESTAURANT_ID  \\\n",
       "0      CASUAL DINING           9438   \n",
       "1  CASUAL DINING,BAR          13198   \n",
       "2      CASUAL DINING          10915   \n",
       "3        QUICK BITES           6346   \n",
       "4     DESSERT PARLOR          15387   \n",
       "\n",
       "                                     CUISINES  \\\n",
       "0                 Malwani, Goan, North Indian   \n",
       "1              Asian, Modern Indian, Japanese   \n",
       "2  North Indian, Chinese, Biryani, Hyderabadi   \n",
       "3                            Tibetan, Chinese   \n",
       "4                                    Desserts   \n",
       "\n",
       "                                     TIME     CITY        LOCALITY RATING  \\\n",
       "0  11am – 4pm, 7:30pm – 11:30pm (Mon-Sun)    Thane  Dombivali East    3.6   \n",
       "1                    6pm – 11pm (Mon-Sun)  Chennai       Ramapuram    4.2   \n",
       "2     11am – 3:30pm, 7pm – 11pm (Mon-Sun)  Chennai      Saligramam    3.8   \n",
       "3                 11:30am – 1am (Mon-Sun)   Mumbai     Bandra West    4.1   \n",
       "4                    11am – 1am (Mon-Sun)   Mumbai     Lower Parel    3.8   \n",
       "\n",
       "       VOTES  COST  \n",
       "0   49 votes  1200  \n",
       "1   30 votes  1500  \n",
       "2  221 votes   800  \n",
       "3   24 votes   800  \n",
       "4  165 votes   300  "
      ]
     },
     "execution_count": 428,
     "metadata": {},
     "output_type": "execute_result"
    }
   ],
   "source": [
    "df_train.head()"
   ]
  },
  {
   "cell_type": "code",
   "execution_count": 429,
   "metadata": {},
   "outputs": [
    {
     "data": {
      "text/html": [
       "<div>\n",
       "<style scoped>\n",
       "    .dataframe tbody tr th:only-of-type {\n",
       "        vertical-align: middle;\n",
       "    }\n",
       "\n",
       "    .dataframe tbody tr th {\n",
       "        vertical-align: top;\n",
       "    }\n",
       "\n",
       "    .dataframe thead th {\n",
       "        text-align: right;\n",
       "    }\n",
       "</style>\n",
       "<table border=\"1\" class=\"dataframe\">\n",
       "  <thead>\n",
       "    <tr style=\"text-align: right;\">\n",
       "      <th></th>\n",
       "      <th>TITLE</th>\n",
       "      <th>RESTAURANT_ID</th>\n",
       "      <th>CUISINES</th>\n",
       "      <th>TIME</th>\n",
       "      <th>CITY</th>\n",
       "      <th>LOCALITY</th>\n",
       "      <th>RATING</th>\n",
       "      <th>VOTES</th>\n",
       "    </tr>\n",
       "  </thead>\n",
       "  <tbody>\n",
       "    <tr>\n",
       "      <th>0</th>\n",
       "      <td>CASUAL DINING</td>\n",
       "      <td>4085</td>\n",
       "      <td>North Indian, Chinese, Mughlai, Kebab</td>\n",
       "      <td>12noon – 12midnight (Mon-Sun)</td>\n",
       "      <td>Noida</td>\n",
       "      <td>Sector 18</td>\n",
       "      <td>4.3</td>\n",
       "      <td>564 votes</td>\n",
       "    </tr>\n",
       "    <tr>\n",
       "      <th>1</th>\n",
       "      <td>QUICK BITES</td>\n",
       "      <td>12680</td>\n",
       "      <td>South Indian, Fast Food, Pizza, North Indian</td>\n",
       "      <td>7am – 12:30AM (Mon-Sun)</td>\n",
       "      <td>Mumbai</td>\n",
       "      <td>Grant Road</td>\n",
       "      <td>4.2</td>\n",
       "      <td>61 votes</td>\n",
       "    </tr>\n",
       "    <tr>\n",
       "      <th>2</th>\n",
       "      <td>CASUAL DINING</td>\n",
       "      <td>1411</td>\n",
       "      <td>North Indian, Seafood, Biryani, Chinese</td>\n",
       "      <td>11am – 11:30pm (Mon-Sun)</td>\n",
       "      <td>Mumbai</td>\n",
       "      <td>Marine Lines</td>\n",
       "      <td>3.8</td>\n",
       "      <td>350 votes</td>\n",
       "    </tr>\n",
       "    <tr>\n",
       "      <th>3</th>\n",
       "      <td>None</td>\n",
       "      <td>204</td>\n",
       "      <td>Biryani</td>\n",
       "      <td>9am – 10pm (Mon, Wed, Thu, Fri, Sat, Sun), 10:...</td>\n",
       "      <td>Faridabad</td>\n",
       "      <td>NIT</td>\n",
       "      <td>3.8</td>\n",
       "      <td>1445 votes</td>\n",
       "    </tr>\n",
       "    <tr>\n",
       "      <th>4</th>\n",
       "      <td>QUICK BITES</td>\n",
       "      <td>13453</td>\n",
       "      <td>South Indian, Kerala</td>\n",
       "      <td>11am – 10pm (Mon-Sun)</td>\n",
       "      <td>Kochi</td>\n",
       "      <td>Kaloor</td>\n",
       "      <td>3.6</td>\n",
       "      <td>23 votes</td>\n",
       "    </tr>\n",
       "  </tbody>\n",
       "</table>\n",
       "</div>"
      ],
      "text/plain": [
       "           TITLE  RESTAURANT_ID                                      CUISINES  \\\n",
       "0  CASUAL DINING           4085         North Indian, Chinese, Mughlai, Kebab   \n",
       "1    QUICK BITES          12680  South Indian, Fast Food, Pizza, North Indian   \n",
       "2  CASUAL DINING           1411       North Indian, Seafood, Biryani, Chinese   \n",
       "3           None            204                                       Biryani   \n",
       "4    QUICK BITES          13453                          South Indian, Kerala   \n",
       "\n",
       "                                                TIME       CITY      LOCALITY  \\\n",
       "0                      12noon – 12midnight (Mon-Sun)      Noida     Sector 18   \n",
       "1                            7am – 12:30AM (Mon-Sun)     Mumbai    Grant Road   \n",
       "2                           11am – 11:30pm (Mon-Sun)     Mumbai  Marine Lines   \n",
       "3  9am – 10pm (Mon, Wed, Thu, Fri, Sat, Sun), 10:...  Faridabad           NIT   \n",
       "4                              11am – 10pm (Mon-Sun)      Kochi        Kaloor   \n",
       "\n",
       "  RATING       VOTES  \n",
       "0    4.3   564 votes  \n",
       "1    4.2    61 votes  \n",
       "2    3.8   350 votes  \n",
       "3    3.8  1445 votes  \n",
       "4    3.6    23 votes  "
      ]
     },
     "execution_count": 429,
     "metadata": {},
     "output_type": "execute_result"
    }
   ],
   "source": [
    "df_test.head()"
   ]
  },
  {
   "cell_type": "code",
   "execution_count": 430,
   "metadata": {},
   "outputs": [
    {
     "data": {
      "text/plain": [
       "((12690, 9), (4231, 8))"
      ]
     },
     "execution_count": 430,
     "metadata": {},
     "output_type": "execute_result"
    }
   ],
   "source": [
    "df_train.shape,df_test.shape"
   ]
  },
  {
   "cell_type": "code",
   "execution_count": 431,
   "metadata": {},
   "outputs": [
    {
     "name": "stdout",
     "output_type": "stream",
     "text": [
      "<class 'pandas.core.frame.DataFrame'>\n",
      "RangeIndex: 12690 entries, 0 to 12689\n",
      "Data columns (total 9 columns):\n",
      " #   Column         Non-Null Count  Dtype \n",
      "---  ------         --------------  ----- \n",
      " 0   TITLE          12690 non-null  object\n",
      " 1   RESTAURANT_ID  12690 non-null  int64 \n",
      " 2   CUISINES       12690 non-null  object\n",
      " 3   TIME           12690 non-null  object\n",
      " 4   CITY           12578 non-null  object\n",
      " 5   LOCALITY       12592 non-null  object\n",
      " 6   RATING         12688 non-null  object\n",
      " 7   VOTES          11486 non-null  object\n",
      " 8   COST           12690 non-null  int64 \n",
      "dtypes: int64(2), object(7)\n",
      "memory usage: 892.4+ KB\n"
     ]
    }
   ],
   "source": [
    "df_train.info()"
   ]
  },
  {
   "cell_type": "code",
   "execution_count": 432,
   "metadata": {},
   "outputs": [
    {
     "data": {
      "text/plain": [
       "Index(['TITLE', 'RESTAURANT_ID', 'CUISINES', 'TIME', 'CITY', 'LOCALITY',\n",
       "       'RATING', 'VOTES', 'COST'],\n",
       "      dtype='object')"
      ]
     },
     "execution_count": 432,
     "metadata": {},
     "output_type": "execute_result"
    }
   ],
   "source": [
    "df_train.columns"
   ]
  },
  {
   "cell_type": "markdown",
   "metadata": {},
   "source": [
    "# checking null values"
   ]
  },
  {
   "cell_type": "code",
   "execution_count": 433,
   "metadata": {},
   "outputs": [
    {
     "data": {
      "text/plain": [
       "TITLE               0\n",
       "RESTAURANT_ID       0\n",
       "CUISINES            0\n",
       "TIME                0\n",
       "CITY              112\n",
       "LOCALITY           98\n",
       "RATING              2\n",
       "VOTES            1204\n",
       "COST                0\n",
       "dtype: int64"
      ]
     },
     "execution_count": 433,
     "metadata": {},
     "output_type": "execute_result"
    }
   ],
   "source": [
    "df_train.isnull().sum()"
   ]
  },
  {
   "cell_type": "code",
   "execution_count": 434,
   "metadata": {},
   "outputs": [
    {
     "data": {
      "text/plain": [
       "TITLE              0\n",
       "RESTAURANT_ID      0\n",
       "CUISINES           0\n",
       "TIME               0\n",
       "CITY              35\n",
       "LOCALITY          30\n",
       "RATING             2\n",
       "VOTES            402\n",
       "dtype: int64"
      ]
     },
     "execution_count": 434,
     "metadata": {},
     "output_type": "execute_result"
    }
   ],
   "source": [
    "df_test.isnull().sum()"
   ]
  },
  {
   "cell_type": "code",
   "execution_count": 435,
   "metadata": {},
   "outputs": [],
   "source": [
    "df_train.CITY=df_train.CITY.fillna(df_train.CITY.mode()[0])\n",
    "df_test.CITY=df_test.CITY.fillna(df_test.CITY.mode()[0])"
   ]
  },
  {
   "cell_type": "code",
   "execution_count": 436,
   "metadata": {},
   "outputs": [],
   "source": [
    "df_train.LOCALITY=df_train.LOCALITY.fillna(df_train.LOCALITY.mode()[0])\n",
    "df_test.LOCALITY=df_test.LOCALITY.fillna(df_test.LOCALITY.mode()[0])"
   ]
  },
  {
   "cell_type": "code",
   "execution_count": 437,
   "metadata": {},
   "outputs": [],
   "source": [
    "df_train.RATING=df_train.RATING.fillna(df_train.RATING.mode()[0])\n",
    "df_test.RATING=df_test.RATING.fillna(df_test.RATING.mode()[0])"
   ]
  },
  {
   "cell_type": "code",
   "execution_count": 438,
   "metadata": {},
   "outputs": [],
   "source": [
    "df_train.VOTES=df_train.VOTES.fillna(df_train.VOTES.mode()[0])\n",
    "df_test.VOTES=df_test.VOTES.fillna(df_test.VOTES.mode()[0])"
   ]
  },
  {
   "cell_type": "code",
   "execution_count": 439,
   "metadata": {},
   "outputs": [
    {
     "data": {
      "text/plain": [
       "TITLE            0\n",
       "RESTAURANT_ID    0\n",
       "CUISINES         0\n",
       "TIME             0\n",
       "CITY             0\n",
       "LOCALITY         0\n",
       "RATING           0\n",
       "VOTES            0\n",
       "COST             0\n",
       "dtype: int64"
      ]
     },
     "execution_count": 439,
     "metadata": {},
     "output_type": "execute_result"
    }
   ],
   "source": [
    "df_train.isnull().sum()"
   ]
  },
  {
   "cell_type": "code",
   "execution_count": 440,
   "metadata": {},
   "outputs": [
    {
     "data": {
      "text/plain": [
       "TITLE            0\n",
       "RESTAURANT_ID    0\n",
       "CUISINES         0\n",
       "TIME             0\n",
       "CITY             0\n",
       "LOCALITY         0\n",
       "RATING           0\n",
       "VOTES            0\n",
       "dtype: int64"
      ]
     },
     "execution_count": 440,
     "metadata": {},
     "output_type": "execute_result"
    }
   ],
   "source": [
    "df_test.isnull().sum()"
   ]
  },
  {
   "cell_type": "code",
   "execution_count": 441,
   "metadata": {},
   "outputs": [
    {
     "data": {
      "text/plain": [
       "<matplotlib.axes._subplots.AxesSubplot at 0x203de4c7fc8>"
      ]
     },
     "execution_count": 441,
     "metadata": {},
     "output_type": "execute_result"
    },
    {
     "data": {
      "image/png": "[encoded data removed]",
      "text/plain": [
       "<Figure size 432x288 with 2 Axes>"
      ]
     },
     "metadata": {
      "needs_background": "light"
     },
     "output_type": "display_data"
    }
   ],
   "source": [
    "sns.heatmap(df_train.isnull())"
   ]
  },
  {
   "cell_type": "markdown",
   "metadata": {},
   "source": [
    "now there is no null values in this dataset"
   ]
  },
  {
   "cell_type": "code",
   "execution_count": 442,
   "metadata": {},
   "outputs": [
    {
     "data": {
      "text/plain": [
       "array(['CASUAL DINING', 'CASUAL DINING,BAR', 'QUICK BITES',\n",
       "       'DESSERT PARLOR', 'CAFÉ', 'MICROBREWERY',\n",
       "       'QUICK BITES,BEVERAGE SHOP', 'CASUAL DINING,IRANI CAFE',\n",
       "       'BAKERY,QUICK BITES', 'None', 'BAR,CASUAL DINING', 'BAR', 'PUB',\n",
       "       'BEVERAGE SHOP', 'FINE DINING', 'CAFÉ,QUICK BITES',\n",
       "       'BEVERAGE SHOP,DESSERT PARLOR', 'SWEET SHOP,QUICK BITES',\n",
       "       'DESSERT PARLOR,SWEET SHOP', 'BAKERY', 'BAKERY,DESSERT PARLOR',\n",
       "       'BAR,LOUNGE', 'FOOD COURT', 'LOUNGE',\n",
       "       'DESSERT PARLOR,BEVERAGE SHOP', 'LOUNGE,CASUAL DINING',\n",
       "       'FOOD TRUCK', 'QUICK BITES,FOOD COURT', 'SWEET SHOP',\n",
       "       'BEVERAGE SHOP,FOOD COURT', 'PUB,CASUAL DINING', 'MESS',\n",
       "       'MICROBREWERY,CASUAL DINING', 'CASUAL DINING,SWEET SHOP', 'KIOSK',\n",
       "       'QUICK BITES,KIOSK', 'CLUB', 'FINE DINING,BAR',\n",
       "       'DESSERT PARLOR,QUICK BITES', 'FOOD COURT,QUICK BITES',\n",
       "       'LOUNGE,CAFÉ', 'BAKERY,CONFECTIONERY', 'CASUAL DINING,CAFÉ',\n",
       "       'DHABA', 'CAFÉ,DESSERT PARLOR', 'QUICK BITES,DESSERT PARLOR',\n",
       "       'PUB,MICROBREWERY', 'LOUNGE,BAR', 'DESSERT PARLOR,CAFÉ',\n",
       "       'CAFÉ,BAR', 'SWEET SHOP,CONFECTIONERY', 'CASUAL DINING,PUB',\n",
       "       'MICROBREWERY,BAR', 'DESSERT PARLOR,BAKERY',\n",
       "       'QUICK BITES,SWEET SHOP', 'BEVERAGE SHOP,QUICK BITES',\n",
       "       'CASUAL DINING,LOUNGE', 'CASUAL DINING,CLUB', 'QUICK BITES,CAFÉ',\n",
       "       'BAR,CAFÉ', 'CAFÉ,CASUAL DINING', 'QUICK BITES,CASUAL DINING',\n",
       "       'CASUAL DINING,MICROBREWERY', 'CASUAL DINING,BAKERY',\n",
       "       'CAFÉ,BAKERY', 'MEAT SHOP', 'QUICK BITES,BAKERY',\n",
       "       'BAR,FINE DINING', 'SWEET SHOP,CASUAL DINING',\n",
       "       'MEAT SHOP,QUICK BITES', 'PUB,LOUNGE', 'BAKERY,CAFÉ',\n",
       "       'COCKTAIL BAR', 'FINE DINING,LOUNGE', 'CONFECTIONERY',\n",
       "       'QUICK BITES,BAR', 'BAKERY,FOOD COURT', 'PUB,BAR',\n",
       "       'DESSERT PARLOR,FOOD COURT', 'QUICK BITES,FOOD TRUCK',\n",
       "       'BAKERY,BEVERAGE SHOP', 'CLUB,BAR', 'BAKERY,SWEET SHOP',\n",
       "       'SWEET SHOP,BAKERY', 'CASUAL DINING,FOOD COURT', 'PAAN SHOP',\n",
       "       'BEVERAGE SHOP,CAFÉ', 'FOOD COURT,DESSERT PARLOR',\n",
       "       'CLUB,MICROBREWERY', 'CAFÉ,BEVERAGE SHOP',\n",
       "       'DESSERT PARLOR,PAAN SHOP', 'MICROBREWERY,LOUNGE', 'LOUNGE,CLUB',\n",
       "       'SWEET SHOP,DESSERT PARLOR', 'BAR,PUB',\n",
       "       'CONFECTIONERY,QUICK BITES', 'DESSERT PARLOR,KIOSK', 'LOUNGE,PUB',\n",
       "       'SWEET SHOP,BEVERAGE SHOP', 'FINE DINING,CAFÉ',\n",
       "       'BEVERAGE SHOP,CASUAL DINING', 'KIOSK,QUICK BITES',\n",
       "       'CASUAL DINING,DESSERT PARLOR', 'LOUNGE,FINE DINING', 'PUB,CAFÉ',\n",
       "       'CAFÉ,LOUNGE', 'BAR,CLUB', 'COCKTAIL BAR,CASUAL DINING',\n",
       "       'MICROBREWERY,PUB', 'CAFÉ,FINE DINING', 'KIOSK,FOOD COURT',\n",
       "       'LOUNGE,MICROBREWERY', 'BAR,MICROBREWERY'], dtype=object)"
      ]
     },
     "execution_count": 442,
     "metadata": {},
     "output_type": "execute_result"
    }
   ],
   "source": [
    "df_train.TITLE.unique()"
   ]
  },
  {
   "cell_type": "code",
   "execution_count": 443,
   "metadata": {},
   "outputs": [
    {
     "data": {
      "text/plain": [
       "South Indian                                    532\n",
       "North Indian                                    526\n",
       "North Indian, Chinese                           501\n",
       "Fast Food                                       286\n",
       "Chinese                                         167\n",
       "                                               ... \n",
       "Tex-Mex, Italian, Coffee                          1\n",
       "North Indian, Mughlai, Biryani, BBQ, Chinese      1\n",
       "North Indian, Chinese, Rajasthani                 1\n",
       "Chinese, Italian, European                        1\n",
       "North Indian, Biryani, Rolls                      1\n",
       "Name: CUISINES, Length: 4155, dtype: int64"
      ]
     },
     "execution_count": 443,
     "metadata": {},
     "output_type": "execute_result"
    }
   ],
   "source": [
    "df_train.CUISINES.value_counts()"
   ]
  },
  {
   "cell_type": "code",
   "execution_count": 444,
   "metadata": {},
   "outputs": [
    {
     "data": {
      "text/plain": [
       "array(['Thane', 'Chennai', 'Mumbai', 'Bangalore', 'Gurgaon', 'Hyderabad',\n",
       "       'Kochi', 'Thane West', 'Andheri Lokhandwala', 'New Delhi',\n",
       "       'Andheri West', 'Malad East', '682036', 'Bangalor', 'Navi Mumbai',\n",
       "       'Bandra West', 'Delhi', 'Noida', 'Bangalore-560066',\n",
       "       'Secunderabad', 'India', 'Madhuranagar', 'Chennai Teynampet',\n",
       "       'Faridabad', 'Chembur.', 'Maharashtra', 'opp gurudwara Shakurpur',\n",
       "       'Telagana Land Line:040-48507016', 'Ghaziabad', 'Karnataka',\n",
       "       'Kerala', 'Edappally', 'Kadavanthra', 'Ernakulam Circle kochi',\n",
       "       'Bengalore', 'Near Reliance Fresh', 'Kilpauk', 'Bengaluru',\n",
       "       'Kothaguda', 'Goregaon West', 'Banglore', 'Tamil Nadu', 'Kakkanad',\n",
       "       'Kochi Elamkulam', 'Outer Ring Road', 'Mulund East',\n",
       "       'Secunderabad main road near signal NMREC COLLEGE', 'Telangana',\n",
       "       'Ponnuruni Kochi', 'Gachibowli', 'Semmancheri',\n",
       "       '5th Main Teachers Colony Koramangala Block 1 Bangalore 560034',\n",
       "       'Mumbai Mahim', 'Powai (Next to Powai Plaza)', 'Dombivali East',\n",
       "       'Kochi Vyttila', 'Kandivali', 'Kochi Palarivattom',\n",
       "       'Dewan Rama Road', 'Gurugram', 'Sector 51 Noida', 'Kaloor',\n",
       "       'Besant Nagar', 'Arumbakkam chennai-600106.',\n",
       "       'Adjacent To Commercial Street', 'Delhi NCR', 'Dwarka', '682035.',\n",
       "       'Kalyan West', 'Avadi', 'Kondapur', 'Mehdipatnam', 'Gandipet',\n",
       "       'Velachery', 'Pallavaram', 'Vijaya Nagar', 'BTM Layout',\n",
       "       'Chennai 600034.',\n",
       "       'Metro Pillar No 21. Mettuguda main road near railway degree college.',\n",
       "       'Chennai - 600040', 'JP Nagar Bangalore', 'Madhapur', 'Ernakulam',\n",
       "       'Sarjapur', 'Whitefield Bangalore', 'Kochi Chullickal',\n",
       "       'Kochi-683101', 'Bangalore - 560076', 'Rohini',\n",
       "       'Hyderabad Behind Vacs Pastries', 'Hyderabad neerus emporium.',\n",
       "       'Navi Mumbai.', 'Karol Bagh', 'Perungudi', 'Thykoodam',\n",
       "       'Greater Noida', 'Bangalore.', 'Khairatabad', 'chullickal',\n",
       "       'Grant Road West', 'Hitech City', 'West Maredpally',\n",
       "       'Mumbai - 400007', 'Chennai Padur', 'Chander Nagar New Delhi',\n",
       "       'Nedumbassery', 'MG Road', 'Naya Nagar Mira Road', 'Pitampura',\n",
       "       'Lower Parel', 'HBR Layout', 'Telangana 500003',\n",
       "       'Rajiv gandhi Nagar', 'New Delhi.', 'Medavakkam', 'Sathya Nagar',\n",
       "       'p.o Kochi', 'Behind Ramalayam Temple', 'Palarivattom',\n",
       "       'Brigade Road', 'Mumbai.', 'Mumbai Andheri East', 'Virar West',\n",
       "       'B-1 Stage', 'Chennai Kovalam', 'Hyderabad.', 'Aluva',\n",
       "       'Telangana 500034', 'IOB Bank Kamala Nagar', 'HSR Layout',\n",
       "       'Marine Drive', 'DLF Galleria', 'Nallathambi Main Road',\n",
       "       'Chennai opp: Vasanth & co', 'Citypark', 'Karnataka 560103',\n",
       "       'Bhayandar', 'Aluva Circle', 'Thammenahalli Village', 'SG Palya',\n",
       "       'Attapur.', 'Near Shangrilla Bus Stop', 'Khar (west)', 'Road 3',\n",
       "       'Kukatpally', 'Faridabd', 'Telangana 500032', 'Dilsukhnagar',\n",
       "       'Mogappair. Chennai', 'Near Munrshwara Temple', 'Off Brigade Road',\n",
       "       'khar west', 'Potheri', 'Chennai Perungudi',\n",
       "       'Chennai Thuraipakkam', 'OMR Karapakkam', 'Hyderabad-500032',\n",
       "       'Mumbai Dombivali East', 'Chennai Thousand Lights', 'Mahim',\n",
       "       'Lingampally', 'Powai', 'New Delhi-110024', 'Chennai- 600107',\n",
       "       'Kerala 683104', 'Vasai West.', 'Thane (W)',\n",
       "       'Near Santosh Banjara Hyderabad',\n",
       "       'Banaswadi (Next to Indian Bank) Bangalore', 'BTM Bangalore',\n",
       "       'Greater Kailash 2 New Delhi', 'Secunderabad ECIL',\n",
       "       'Bangalore Koramangala 7th Block', 'bangalore : 560085',\n",
       "       'navi mumbai', 'Gachibowli Hyderabad',\n",
       "       'CPR layout harlur main road opposite to ozone ever green apartment Bangalore -',\n",
       "       'ECR NEELANKARAI Chennai 600115', 'ward X11', 'kochi',\n",
       "       'Perumbavoor', 'Mira raod east', 'Kerala 682013', 'Chennai.',\n",
       "       'Pokhran Road 2', 'Uttar Pradesh', 'Karnataka 560102',\n",
       "       'Mumbai - 400013', 'Naharpar', 'Hosur Road',\n",
       "       'Near Bharat Petroleum.', 'Chennai (Bang Opposite Indian Bank)',\n",
       "       'Sriram nagar', 'West Mumbai', 'Vyttila', 'Banjara Hills',\n",
       "       'MALAPALLIPURAM P .O THRISSUR', 'Andheri west Mumbai',\n",
       "       'Karnataka 560043', 'Panampilly Nagar', 'hyderabad',\n",
       "       'Borivali East.', 'ECIL', 'Jubilee Hills',\n",
       "       'Amrit kaur market opposite new delhi railway station paharganj',\n",
       "       'Chennai Opposite 5C Bus stand', 'Telengana', 'Kochi Ravipuram',\n",
       "       'Rajanpada', 'Mahabalipuram', 'Secunderabad. WE HAVE NO BRANCHES.',\n",
       "       'Telangana 500081', 'Gurgoan', 'Elamakkara', 'Sector 1',\n",
       "       'Bandra W', 'Kolathur', 'Chennai Mahabalipuram', '3rd Street',\n",
       "       'Mumbai Chakala', 'Borivali West', 'Rodeo Drive Sector 49',\n",
       "       'Pallimukku', 'Delhi 110085', 'Sector 51', 'Champapet',\n",
       "       'Andavar Nagar', 'Bangalore - 560103', 'Kerala 690525',\n",
       "       'opp mukteshwar ashram powai', 'Nungambakkam', 'BK Guda',\n",
       "       'Jogeshwari (w) Mumbai', 'Kukatapally', 'Near Sector 110 Noida',\n",
       "       'Navallur', 'Beside Excellency Gardens', 'Mumbai - 80', 'Begumpet',\n",
       "       'Maharaja Hotel Beside Gardania Bar', 'Ashok Vihar Phase 1',\n",
       "       'Trivandrum', 'Kochi-18', 'Narayanguda', 'Thevera', 'Chennai-40',\n",
       "       'Palm Beach Road', 'East Coast Road (ECR)', 'Ramapuram',\n",
       "       'Chennai Chrompet', 'Nandanam', 'Saket', 'MG Road Ernakulam',\n",
       "       'Andheri Lokhandwala.', 'Indiranagar', 'Thiruvanmiyur', 'Ambattur',\n",
       "       'Banglaore', 'Chennai - 34 Landmark - Near Loyola College',\n",
       "       'Anna Nagar West', 'Old Railway Road', 'East Mumbai',\n",
       "       'Kanakapura Road Banglore', 'Kochi Kakkanad', 'Kalyan',\n",
       "       'Near Ramlila Ground', 'Serilingampally', 'Himayath Nagar',\n",
       "       'Nallala Street', 'Anna Salai', 'Old Delhi', 'Wagle Estate',\n",
       "       '1st Stage', 'Kochi-16', 'Kochi International Airport VIP Road',\n",
       "       'First Street', 'Chenn ai', '6 & 7 - 4/64 Subhash Nagar',\n",
       "       '1st Tavarekere', 'Perambur', 'Vaishali Ghaziabad', 'Thanisandra',\n",
       "       'Block F', 'Sector 7 Dwarka', 'Opposite Barathi Gas Company',\n",
       "       'Vadapalani', 'Kondapur.', 'Badlapur West.', 'Kalamassery',\n",
       "       'Palavakkam', 'TCS Synergy park', 'BTM 1st Stage', 'Mahadevpura',\n",
       "       'NEW BEL ROAD 560054',\n",
       "       'Veliaveetil house Vivekananda Nagar Elamakkara', 'Sholinganallur',\n",
       "       'Maharashtra 400102', 'Lower Parel West', 'Tripunithura',\n",
       "       'Mogappair', 'Telangana 500070', 'JP Nagar', 'Navi-Mumbai',\n",
       "       'Ashok Nagar', 'Marathahalli', 'Haridwar Apartments',\n",
       "       'Kerala 682001 India', 'Karnataka 560037', 'Kerala 683585',\n",
       "       'Chennai. (Near Hotel Matshya)', 'Indirapuram',\n",
       "       'Begumpet Hyderabad', 'Manikonda',\n",
       "       'Bangalore land mark above mahaveer hard ware', 'Kerala 682304',\n",
       "       'Rajarajeshwari Nagar bangalore', 'GST Road', 'Fort Kochi',\n",
       "       'Lahari Apartments', 'Ramanthapur', 'Mulund west',\n",
       "       'Gurgaon Haryana India', 'New Delhi..Near by SBI bank',\n",
       "       'Kochi Aluva 102', 'Phase 1 Bangalore', 'Hyderabad Manikonda',\n",
       "       'Mumbai This is a Delivery & Take-away Restaurant only.',\n",
       "       '10th avenue', 'Uppal', 'New Delhi 110075', 'Nizampet', 'Ulsoo',\n",
       "       'Bangalore 560076', 'PVR plaza cinema building Connaught Place',\n",
       "       'Gurgaon Haryana', 'Chromepet', 'Kerala 682024', 'Janakpuri',\n",
       "       'Secunderabad.', 'chennai', 'B.B.M.P East (Karnataka) - 560049',\n",
       "       'Tambaram', 'Malleshwaram Bangalore', 'Vadapalani.',\n",
       "       'Dist. Center New Delhi', 'Bangalore Road', 'aluva circle',\n",
       "       'Kochi.', 'Thane Mumbai', 'Kadubesanahalli Bangalore',\n",
       "       'Vasai west', 'Mig Housing Society', 'Haryana', 'Borivali West.',\n",
       "       'Golf Course Road', 'Khar Mumbai', 'Near Jyothinivas College',\n",
       "       'Anna Nagar East', 'Masab Tank'], dtype=object)"
      ]
     },
     "execution_count": 444,
     "metadata": {},
     "output_type": "execute_result"
    }
   ],
   "source": [
    "df_train.CITY.unique()"
   ]
  },
  {
   "cell_type": "code",
   "execution_count": 445,
   "metadata": {},
   "outputs": [
    {
     "data": {
      "text/plain": [
       "array(['Dombivali East', 'Ramapuram', 'Saligramam', ..., 'Market Road',\n",
       "       'Near Perambur', 'Near Malviya Nagar'], dtype=object)"
      ]
     },
     "execution_count": 445,
     "metadata": {},
     "output_type": "execute_result"
    }
   ],
   "source": [
    "df_train.LOCALITY.unique()"
   ]
  },
  {
   "cell_type": "markdown",
   "metadata": {},
   "source": [
    "# Data Cleaning"
   ]
  },
  {
   "cell_type": "code",
   "execution_count": 446,
   "metadata": {},
   "outputs": [],
   "source": [
    "df_train.TITLE=df_train.TITLE.str.upper()\n",
    "df_test.TITLE=df_test.TITLE.str.upper()"
   ]
  },
  {
   "cell_type": "code",
   "execution_count": 447,
   "metadata": {},
   "outputs": [],
   "source": [
    "df_train.TITLE=df_train.TITLE.str.replace(',','')\n",
    "df_test.TITLE=df_test.TITLE.str.replace(',','')"
   ]
  },
  {
   "cell_type": "code",
   "execution_count": 448,
   "metadata": {},
   "outputs": [
    {
     "data": {
      "text/plain": [
       "0           CASUAL DINING\n",
       "1        CASUAL DININGBAR\n",
       "2           CASUAL DINING\n",
       "3             QUICK BITES\n",
       "4          DESSERT PARLOR\n",
       "               ...       \n",
       "12685         QUICK BITES\n",
       "12686    CASUAL DININGBAR\n",
       "12687              LOUNGE\n",
       "12688       CASUAL DINING\n",
       "12689       CASUAL DINING\n",
       "Name: TITLE, Length: 12690, dtype: object"
      ]
     },
     "execution_count": 448,
     "metadata": {},
     "output_type": "execute_result"
    }
   ],
   "source": [
    "df_train.TITLE"
   ]
  },
  {
   "cell_type": "code",
   "execution_count": 449,
   "metadata": {},
   "outputs": [
    {
     "data": {
      "text/plain": [
       "12690"
      ]
     },
     "execution_count": 449,
     "metadata": {},
     "output_type": "execute_result"
    }
   ],
   "source": [
    "len(df_train.TITLE)"
   ]
  },
  {
   "cell_type": "code",
   "execution_count": 450,
   "metadata": {},
   "outputs": [],
   "source": [
    "df_train.TITLE=df_train.TITLE.str.split(' ')\n",
    "df_test.TITLE=df_test.TITLE.str.split(' ')"
   ]
  },
  {
   "cell_type": "code",
   "execution_count": 451,
   "metadata": {},
   "outputs": [],
   "source": [
    "df_train['TITLE1']=df_train.TITLE.str[-1]\n",
    "df_test['TITLE1']=df_test.TITLE.str[-1]"
   ]
  },
  {
   "cell_type": "code",
   "execution_count": 452,
   "metadata": {},
   "outputs": [],
   "source": [
    "df_train['TITLE2']=df_train.TITLE.str[0]\n",
    "df_test['TITLE2']=df_test.TITLE.str[0]"
   ]
  },
  {
   "cell_type": "code",
   "execution_count": 453,
   "metadata": {},
   "outputs": [
    {
     "data": {
      "text/html": [
       "<div>\n",
       "<style scoped>\n",
       "    .dataframe tbody tr th:only-of-type {\n",
       "        vertical-align: middle;\n",
       "    }\n",
       "\n",
       "    .dataframe tbody tr th {\n",
       "        vertical-align: top;\n",
       "    }\n",
       "\n",
       "    .dataframe thead th {\n",
       "        text-align: right;\n",
       "    }\n",
       "</style>\n",
       "<table border=\"1\" class=\"dataframe\">\n",
       "  <thead>\n",
       "    <tr style=\"text-align: right;\">\n",
       "      <th></th>\n",
       "      <th>TITLE</th>\n",
       "      <th>RESTAURANT_ID</th>\n",
       "      <th>CUISINES</th>\n",
       "      <th>TIME</th>\n",
       "      <th>CITY</th>\n",
       "      <th>LOCALITY</th>\n",
       "      <th>RATING</th>\n",
       "      <th>VOTES</th>\n",
       "      <th>COST</th>\n",
       "      <th>TITLE1</th>\n",
       "      <th>TITLE2</th>\n",
       "    </tr>\n",
       "  </thead>\n",
       "  <tbody>\n",
       "    <tr>\n",
       "      <th>0</th>\n",
       "      <td>[CASUAL, DINING]</td>\n",
       "      <td>9438</td>\n",
       "      <td>Malwani, Goan, North Indian</td>\n",
       "      <td>11am – 4pm, 7:30pm – 11:30pm (Mon-Sun)</td>\n",
       "      <td>Thane</td>\n",
       "      <td>Dombivali East</td>\n",
       "      <td>3.6</td>\n",
       "      <td>49 votes</td>\n",
       "      <td>1200</td>\n",
       "      <td>DINING</td>\n",
       "      <td>CASUAL</td>\n",
       "    </tr>\n",
       "    <tr>\n",
       "      <th>1</th>\n",
       "      <td>[CASUAL, DININGBAR]</td>\n",
       "      <td>13198</td>\n",
       "      <td>Asian, Modern Indian, Japanese</td>\n",
       "      <td>6pm – 11pm (Mon-Sun)</td>\n",
       "      <td>Chennai</td>\n",
       "      <td>Ramapuram</td>\n",
       "      <td>4.2</td>\n",
       "      <td>30 votes</td>\n",
       "      <td>1500</td>\n",
       "      <td>DININGBAR</td>\n",
       "      <td>CASUAL</td>\n",
       "    </tr>\n",
       "    <tr>\n",
       "      <th>2</th>\n",
       "      <td>[CASUAL, DINING]</td>\n",
       "      <td>10915</td>\n",
       "      <td>North Indian, Chinese, Biryani, Hyderabadi</td>\n",
       "      <td>11am – 3:30pm, 7pm – 11pm (Mon-Sun)</td>\n",
       "      <td>Chennai</td>\n",
       "      <td>Saligramam</td>\n",
       "      <td>3.8</td>\n",
       "      <td>221 votes</td>\n",
       "      <td>800</td>\n",
       "      <td>DINING</td>\n",
       "      <td>CASUAL</td>\n",
       "    </tr>\n",
       "    <tr>\n",
       "      <th>3</th>\n",
       "      <td>[QUICK, BITES]</td>\n",
       "      <td>6346</td>\n",
       "      <td>Tibetan, Chinese</td>\n",
       "      <td>11:30am – 1am (Mon-Sun)</td>\n",
       "      <td>Mumbai</td>\n",
       "      <td>Bandra West</td>\n",
       "      <td>4.1</td>\n",
       "      <td>24 votes</td>\n",
       "      <td>800</td>\n",
       "      <td>BITES</td>\n",
       "      <td>QUICK</td>\n",
       "    </tr>\n",
       "    <tr>\n",
       "      <th>4</th>\n",
       "      <td>[DESSERT, PARLOR]</td>\n",
       "      <td>15387</td>\n",
       "      <td>Desserts</td>\n",
       "      <td>11am – 1am (Mon-Sun)</td>\n",
       "      <td>Mumbai</td>\n",
       "      <td>Lower Parel</td>\n",
       "      <td>3.8</td>\n",
       "      <td>165 votes</td>\n",
       "      <td>300</td>\n",
       "      <td>PARLOR</td>\n",
       "      <td>DESSERT</td>\n",
       "    </tr>\n",
       "  </tbody>\n",
       "</table>\n",
       "</div>"
      ],
      "text/plain": [
       "                 TITLE  RESTAURANT_ID  \\\n",
       "0     [CASUAL, DINING]           9438   \n",
       "1  [CASUAL, DININGBAR]          13198   \n",
       "2     [CASUAL, DINING]          10915   \n",
       "3       [QUICK, BITES]           6346   \n",
       "4    [DESSERT, PARLOR]          15387   \n",
       "\n",
       "                                     CUISINES  \\\n",
       "0                 Malwani, Goan, North Indian   \n",
       "1              Asian, Modern Indian, Japanese   \n",
       "2  North Indian, Chinese, Biryani, Hyderabadi   \n",
       "3                            Tibetan, Chinese   \n",
       "4                                    Desserts   \n",
       "\n",
       "                                     TIME     CITY        LOCALITY RATING  \\\n",
       "0  11am – 4pm, 7:30pm – 11:30pm (Mon-Sun)    Thane  Dombivali East    3.6   \n",
       "1                    6pm – 11pm (Mon-Sun)  Chennai       Ramapuram    4.2   \n",
       "2     11am – 3:30pm, 7pm – 11pm (Mon-Sun)  Chennai      Saligramam    3.8   \n",
       "3                 11:30am – 1am (Mon-Sun)   Mumbai     Bandra West    4.1   \n",
       "4                    11am – 1am (Mon-Sun)   Mumbai     Lower Parel    3.8   \n",
       "\n",
       "       VOTES  COST     TITLE1   TITLE2  \n",
       "0   49 votes  1200     DINING   CASUAL  \n",
       "1   30 votes  1500  DININGBAR   CASUAL  \n",
       "2  221 votes   800     DINING   CASUAL  \n",
       "3   24 votes   800      BITES    QUICK  \n",
       "4  165 votes   300     PARLOR  DESSERT  "
      ]
     },
     "execution_count": 453,
     "metadata": {},
     "output_type": "execute_result"
    }
   ],
   "source": [
    "df_train.head()"
   ]
  },
  {
   "cell_type": "code",
   "execution_count": 454,
   "metadata": {},
   "outputs": [
    {
     "data": {
      "text/plain": [
       "BITES                  4479\n",
       "DINING                 4225\n",
       "NONE                   1003\n",
       "CAFÉ                    607\n",
       "PARLOR                  520\n",
       "DININGBAR               381\n",
       "BAKERY                  302\n",
       "SHOP                    293\n",
       "LOUNGE                   98\n",
       "BAR                      94\n",
       "COURT                    93\n",
       "DININGCAFÉ               58\n",
       "MESS                     53\n",
       "KIOSK                    53\n",
       "PUB                      50\n",
       "DHABA                    45\n",
       "TRUCK                    31\n",
       "CAFÉBAKERY               29\n",
       "DININGLOUNGE             25\n",
       "DININGPUB                21\n",
       "CLUB                     20\n",
       "BITESBAKERY              20\n",
       "LOUNGEBAR                19\n",
       "CAFÉBAR                  17\n",
       "BARLOUNGE                16\n",
       "PUBMICROBREWERY          14\n",
       "BAKERYCAFÉ               13\n",
       "PARLORBAKERY             12\n",
       "DININGMICROBREWERY        9\n",
       "MICROBREWERY              8\n",
       "PARLORCAFÉ                8\n",
       "BARPUB                    7\n",
       "DININGBAKERY              6\n",
       "BITESCAFÉ                 5\n",
       "PUBBAR                    4\n",
       "PUBLOUNGE                 4\n",
       "BARCAFÉ                   4\n",
       "MICROBREWERYBAR           4\n",
       "MICROBREWERYPUB           4\n",
       "SHOPCAFÉ                  3\n",
       "LOUNGEPUB                 3\n",
       "CAFE                      3\n",
       "BITESKIOSK                3\n",
       "CONFECTIONERY             2\n",
       "LOUNGEMICROBREWERY        2\n",
       "LOUNGECLUB                2\n",
       "CLUBBAR                   2\n",
       "SHOPBAKERY                2\n",
       "DININGCLUB                2\n",
       "LOUNGECAFÉ                2\n",
       "SHOPCONFECTIONERY         1\n",
       "PUBCAFÉ                   1\n",
       "BITESBAR                  1\n",
       "CAFÉLOUNGE                1\n",
       "MICROBREWERYLOUNGE        1\n",
       "PARLORKIOSK               1\n",
       "BARMICROBREWERY           1\n",
       "BARCLUB                   1\n",
       "CLUBMICROBREWERY          1\n",
       "BAKERYCONFECTIONERY       1\n",
       "Name: TITLE1, dtype: int64"
      ]
     },
     "execution_count": 454,
     "metadata": {},
     "output_type": "execute_result"
    }
   ],
   "source": [
    "df_train['TITLE1'].value_counts()"
   ]
  },
  {
   "cell_type": "code",
   "execution_count": 455,
   "metadata": {},
   "outputs": [],
   "source": [
    "df_train.drop('TITLE',axis=1,inplace=True)\n",
    "df_test.drop('TITLE',axis=1,inplace=True)"
   ]
  },
  {
   "cell_type": "code",
   "execution_count": 456,
   "metadata": {},
   "outputs": [],
   "source": [
    "#RestaurantID\n",
    "df_train.drop('RESTAURANT_ID',axis=1,inplace=True)\n",
    "df_test.drop('RESTAURANT_ID',axis=1,inplace=True)"
   ]
  },
  {
   "cell_type": "code",
   "execution_count": 457,
   "metadata": {},
   "outputs": [
    {
     "data": {
      "text/html": [
       "<div>\n",
       "<style scoped>\n",
       "    .dataframe tbody tr th:only-of-type {\n",
       "        vertical-align: middle;\n",
       "    }\n",
       "\n",
       "    .dataframe tbody tr th {\n",
       "        vertical-align: top;\n",
       "    }\n",
       "\n",
       "    .dataframe thead th {\n",
       "        text-align: right;\n",
       "    }\n",
       "</style>\n",
       "<table border=\"1\" class=\"dataframe\">\n",
       "  <thead>\n",
       "    <tr style=\"text-align: right;\">\n",
       "      <th></th>\n",
       "      <th>CUISINES</th>\n",
       "      <th>TIME</th>\n",
       "      <th>CITY</th>\n",
       "      <th>LOCALITY</th>\n",
       "      <th>RATING</th>\n",
       "      <th>VOTES</th>\n",
       "      <th>COST</th>\n",
       "      <th>TITLE1</th>\n",
       "      <th>TITLE2</th>\n",
       "    </tr>\n",
       "  </thead>\n",
       "  <tbody>\n",
       "    <tr>\n",
       "      <th>0</th>\n",
       "      <td>Malwani, Goan, North Indian</td>\n",
       "      <td>11am – 4pm, 7:30pm – 11:30pm (Mon-Sun)</td>\n",
       "      <td>Thane</td>\n",
       "      <td>Dombivali East</td>\n",
       "      <td>3.6</td>\n",
       "      <td>49 votes</td>\n",
       "      <td>1200</td>\n",
       "      <td>DINING</td>\n",
       "      <td>CASUAL</td>\n",
       "    </tr>\n",
       "    <tr>\n",
       "      <th>1</th>\n",
       "      <td>Asian, Modern Indian, Japanese</td>\n",
       "      <td>6pm – 11pm (Mon-Sun)</td>\n",
       "      <td>Chennai</td>\n",
       "      <td>Ramapuram</td>\n",
       "      <td>4.2</td>\n",
       "      <td>30 votes</td>\n",
       "      <td>1500</td>\n",
       "      <td>DININGBAR</td>\n",
       "      <td>CASUAL</td>\n",
       "    </tr>\n",
       "    <tr>\n",
       "      <th>2</th>\n",
       "      <td>North Indian, Chinese, Biryani, Hyderabadi</td>\n",
       "      <td>11am – 3:30pm, 7pm – 11pm (Mon-Sun)</td>\n",
       "      <td>Chennai</td>\n",
       "      <td>Saligramam</td>\n",
       "      <td>3.8</td>\n",
       "      <td>221 votes</td>\n",
       "      <td>800</td>\n",
       "      <td>DINING</td>\n",
       "      <td>CASUAL</td>\n",
       "    </tr>\n",
       "    <tr>\n",
       "      <th>3</th>\n",
       "      <td>Tibetan, Chinese</td>\n",
       "      <td>11:30am – 1am (Mon-Sun)</td>\n",
       "      <td>Mumbai</td>\n",
       "      <td>Bandra West</td>\n",
       "      <td>4.1</td>\n",
       "      <td>24 votes</td>\n",
       "      <td>800</td>\n",
       "      <td>BITES</td>\n",
       "      <td>QUICK</td>\n",
       "    </tr>\n",
       "    <tr>\n",
       "      <th>4</th>\n",
       "      <td>Desserts</td>\n",
       "      <td>11am – 1am (Mon-Sun)</td>\n",
       "      <td>Mumbai</td>\n",
       "      <td>Lower Parel</td>\n",
       "      <td>3.8</td>\n",
       "      <td>165 votes</td>\n",
       "      <td>300</td>\n",
       "      <td>PARLOR</td>\n",
       "      <td>DESSERT</td>\n",
       "    </tr>\n",
       "  </tbody>\n",
       "</table>\n",
       "</div>"
      ],
      "text/plain": [
       "                                     CUISINES  \\\n",
       "0                 Malwani, Goan, North Indian   \n",
       "1              Asian, Modern Indian, Japanese   \n",
       "2  North Indian, Chinese, Biryani, Hyderabadi   \n",
       "3                            Tibetan, Chinese   \n",
       "4                                    Desserts   \n",
       "\n",
       "                                     TIME     CITY        LOCALITY RATING  \\\n",
       "0  11am – 4pm, 7:30pm – 11:30pm (Mon-Sun)    Thane  Dombivali East    3.6   \n",
       "1                    6pm – 11pm (Mon-Sun)  Chennai       Ramapuram    4.2   \n",
       "2     11am – 3:30pm, 7pm – 11pm (Mon-Sun)  Chennai      Saligramam    3.8   \n",
       "3                 11:30am – 1am (Mon-Sun)   Mumbai     Bandra West    4.1   \n",
       "4                    11am – 1am (Mon-Sun)   Mumbai     Lower Parel    3.8   \n",
       "\n",
       "       VOTES  COST     TITLE1   TITLE2  \n",
       "0   49 votes  1200     DINING   CASUAL  \n",
       "1   30 votes  1500  DININGBAR   CASUAL  \n",
       "2  221 votes   800     DINING   CASUAL  \n",
       "3   24 votes   800      BITES    QUICK  \n",
       "4  165 votes   300     PARLOR  DESSERT  "
      ]
     },
     "execution_count": 457,
     "metadata": {},
     "output_type": "execute_result"
    }
   ],
   "source": [
    "df_train.head()"
   ]
  },
  {
   "cell_type": "code",
   "execution_count": 458,
   "metadata": {},
   "outputs": [],
   "source": [
    "#CUISINES\n",
    "df_train.CUISINES=df_train.CUISINES.str.lower()\n",
    "df_test.CUISINES=df_test.CUISINES.str.lower()"
   ]
  },
  {
   "cell_type": "code",
   "execution_count": 459,
   "metadata": {},
   "outputs": [],
   "source": [
    "df_train.CUISINES=df_train.CUISINES.str.split(',')\n",
    "df_test.CUISINES=df_test.CUISINES.str.split(',')"
   ]
  },
  {
   "cell_type": "code",
   "execution_count": 460,
   "metadata": {},
   "outputs": [
    {
     "data": {
      "text/plain": [
       "0                          [malwani,  goan,  north indian]\n",
       "1                       [asian,  modern indian,  japanese]\n",
       "2          [north indian,  chinese,  biryani,  hyderabadi]\n",
       "3                                      [tibetan,  chinese]\n",
       "4                                               [desserts]\n",
       "                               ...                        \n",
       "12685                      [north indian,  burger,  kebab]\n",
       "12686                                 [goan,  continental]\n",
       "12687        [finger food,  continental,  asian,  chinese]\n",
       "12688    [north indian,  south indian,  chinese,  stree...\n",
       "12689                             [north indian,  chinese]\n",
       "Name: CUISINES, Length: 12690, dtype: object"
      ]
     },
     "execution_count": 460,
     "metadata": {},
     "output_type": "execute_result"
    }
   ],
   "source": [
    "df_train.CUISINES"
   ]
  },
  {
   "cell_type": "code",
   "execution_count": 461,
   "metadata": {},
   "outputs": [],
   "source": [
    "df_train['CUISINES1']=df_train.CUISINES.str[0]\n",
    "df_test['CUISINES1']=df_test.CUISINES.str[0]"
   ]
  },
  {
   "cell_type": "code",
   "execution_count": 462,
   "metadata": {},
   "outputs": [],
   "source": [
    "df_train['CUISINES2']=df_train.CUISINES.str[1]\n",
    "df_test['CUISINES2']=df_test.CUISINES.str[1]"
   ]
  },
  {
   "cell_type": "code",
   "execution_count": 463,
   "metadata": {},
   "outputs": [],
   "source": [
    "df_train['CUISINES3']=df_train.CUISINES.str[2]\n",
    "df_test['CUISINES3']=df_test.CUISINES.str[2]"
   ]
  },
  {
   "cell_type": "code",
   "execution_count": 464,
   "metadata": {},
   "outputs": [],
   "source": [
    "df_train['CUISINES4']=df_train.CUISINES.str[3]\n",
    "df_test['CUISINES4']=df_test.CUISINES.str[3]"
   ]
  },
  {
   "cell_type": "code",
   "execution_count": 465,
   "metadata": {},
   "outputs": [],
   "source": [
    "df_train['CUISINES5']=df_train.CUISINES.str[4]\n",
    "df_test['CUISINES5']=df_test.CUISINES.str[4]"
   ]
  },
  {
   "cell_type": "code",
   "execution_count": 466,
   "metadata": {},
   "outputs": [],
   "source": [
    "df_train['CUISINES6']=df_train.CUISINES.str[5]\n",
    "df_test['CUISINES6']=df_test.CUISINES.str[5]"
   ]
  },
  {
   "cell_type": "code",
   "execution_count": 467,
   "metadata": {},
   "outputs": [],
   "source": [
    "df_train['CUISINES7']=df_train.CUISINES.str[6]\n",
    "df_test['CUISINES7']=df_test.CUISINES.str[6]"
   ]
  },
  {
   "cell_type": "code",
   "execution_count": 468,
   "metadata": {},
   "outputs": [],
   "source": [
    "df_train['CUISINES8']=df_train.CUISINES.str[6]\n",
    "df_test['CUISINES8']=df_test.CUISINES.str[6]"
   ]
  },
  {
   "cell_type": "code",
   "execution_count": 469,
   "metadata": {},
   "outputs": [],
   "source": [
    "df_train['CUISINES9']=df_train.CUISINES.str[7]\n",
    "df_test['CUISINES9']=df_test.CUISINES.str[7]"
   ]
  },
  {
   "cell_type": "code",
   "execution_count": 470,
   "metadata": {},
   "outputs": [
    {
     "data": {
      "text/plain": [
       "array([nan, '', ' healthy food', ' pizza', ' ice cream', ' lebanese',\n",
       "       ' desserts', ' asian', ' mexican', ' fast food', ' rolls',\n",
       "       ' beverages', ' chinese', ' momos', ' north indian', ' burger',\n",
       "       ' coffee and tea', ' cafe food', ' salad', ' european'],\n",
       "      dtype=object)"
      ]
     },
     "execution_count": 470,
     "metadata": {},
     "output_type": "execute_result"
    }
   ],
   "source": [
    "df_train.CUISINES9.unique()"
   ]
  },
  {
   "cell_type": "code",
   "execution_count": 471,
   "metadata": {},
   "outputs": [
    {
     "data": {
      "text/html": [
       "<div>\n",
       "<style scoped>\n",
       "    .dataframe tbody tr th:only-of-type {\n",
       "        vertical-align: middle;\n",
       "    }\n",
       "\n",
       "    .dataframe tbody tr th {\n",
       "        vertical-align: top;\n",
       "    }\n",
       "\n",
       "    .dataframe thead th {\n",
       "        text-align: right;\n",
       "    }\n",
       "</style>\n",
       "<table border=\"1\" class=\"dataframe\">\n",
       "  <thead>\n",
       "    <tr style=\"text-align: right;\">\n",
       "      <th></th>\n",
       "      <th>CUISINES</th>\n",
       "      <th>TIME</th>\n",
       "      <th>CITY</th>\n",
       "      <th>LOCALITY</th>\n",
       "      <th>RATING</th>\n",
       "      <th>VOTES</th>\n",
       "      <th>COST</th>\n",
       "      <th>TITLE1</th>\n",
       "      <th>TITLE2</th>\n",
       "      <th>CUISINES1</th>\n",
       "      <th>CUISINES2</th>\n",
       "      <th>CUISINES3</th>\n",
       "      <th>CUISINES4</th>\n",
       "      <th>CUISINES5</th>\n",
       "      <th>CUISINES6</th>\n",
       "      <th>CUISINES7</th>\n",
       "      <th>CUISINES8</th>\n",
       "      <th>CUISINES9</th>\n",
       "    </tr>\n",
       "  </thead>\n",
       "  <tbody>\n",
       "    <tr>\n",
       "      <th>0</th>\n",
       "      <td>[malwani,  goan,  north indian]</td>\n",
       "      <td>11am – 4pm, 7:30pm – 11:30pm (Mon-Sun)</td>\n",
       "      <td>Thane</td>\n",
       "      <td>Dombivali East</td>\n",
       "      <td>3.6</td>\n",
       "      <td>49 votes</td>\n",
       "      <td>1200</td>\n",
       "      <td>DINING</td>\n",
       "      <td>CASUAL</td>\n",
       "      <td>malwani</td>\n",
       "      <td>goan</td>\n",
       "      <td>north indian</td>\n",
       "      <td>NaN</td>\n",
       "      <td>NaN</td>\n",
       "      <td>NaN</td>\n",
       "      <td>NaN</td>\n",
       "      <td>NaN</td>\n",
       "      <td>NaN</td>\n",
       "    </tr>\n",
       "    <tr>\n",
       "      <th>1</th>\n",
       "      <td>[asian,  modern indian,  japanese]</td>\n",
       "      <td>6pm – 11pm (Mon-Sun)</td>\n",
       "      <td>Chennai</td>\n",
       "      <td>Ramapuram</td>\n",
       "      <td>4.2</td>\n",
       "      <td>30 votes</td>\n",
       "      <td>1500</td>\n",
       "      <td>DININGBAR</td>\n",
       "      <td>CASUAL</td>\n",
       "      <td>asian</td>\n",
       "      <td>modern indian</td>\n",
       "      <td>japanese</td>\n",
       "      <td>NaN</td>\n",
       "      <td>NaN</td>\n",
       "      <td>NaN</td>\n",
       "      <td>NaN</td>\n",
       "      <td>NaN</td>\n",
       "      <td>NaN</td>\n",
       "    </tr>\n",
       "    <tr>\n",
       "      <th>2</th>\n",
       "      <td>[north indian,  chinese,  biryani,  hyderabadi]</td>\n",
       "      <td>11am – 3:30pm, 7pm – 11pm (Mon-Sun)</td>\n",
       "      <td>Chennai</td>\n",
       "      <td>Saligramam</td>\n",
       "      <td>3.8</td>\n",
       "      <td>221 votes</td>\n",
       "      <td>800</td>\n",
       "      <td>DINING</td>\n",
       "      <td>CASUAL</td>\n",
       "      <td>north indian</td>\n",
       "      <td>chinese</td>\n",
       "      <td>biryani</td>\n",
       "      <td>hyderabadi</td>\n",
       "      <td>NaN</td>\n",
       "      <td>NaN</td>\n",
       "      <td>NaN</td>\n",
       "      <td>NaN</td>\n",
       "      <td>NaN</td>\n",
       "    </tr>\n",
       "    <tr>\n",
       "      <th>3</th>\n",
       "      <td>[tibetan,  chinese]</td>\n",
       "      <td>11:30am – 1am (Mon-Sun)</td>\n",
       "      <td>Mumbai</td>\n",
       "      <td>Bandra West</td>\n",
       "      <td>4.1</td>\n",
       "      <td>24 votes</td>\n",
       "      <td>800</td>\n",
       "      <td>BITES</td>\n",
       "      <td>QUICK</td>\n",
       "      <td>tibetan</td>\n",
       "      <td>chinese</td>\n",
       "      <td>NaN</td>\n",
       "      <td>NaN</td>\n",
       "      <td>NaN</td>\n",
       "      <td>NaN</td>\n",
       "      <td>NaN</td>\n",
       "      <td>NaN</td>\n",
       "      <td>NaN</td>\n",
       "    </tr>\n",
       "    <tr>\n",
       "      <th>4</th>\n",
       "      <td>[desserts]</td>\n",
       "      <td>11am – 1am (Mon-Sun)</td>\n",
       "      <td>Mumbai</td>\n",
       "      <td>Lower Parel</td>\n",
       "      <td>3.8</td>\n",
       "      <td>165 votes</td>\n",
       "      <td>300</td>\n",
       "      <td>PARLOR</td>\n",
       "      <td>DESSERT</td>\n",
       "      <td>desserts</td>\n",
       "      <td>NaN</td>\n",
       "      <td>NaN</td>\n",
       "      <td>NaN</td>\n",
       "      <td>NaN</td>\n",
       "      <td>NaN</td>\n",
       "      <td>NaN</td>\n",
       "      <td>NaN</td>\n",
       "      <td>NaN</td>\n",
       "    </tr>\n",
       "  </tbody>\n",
       "</table>\n",
       "</div>"
      ],
      "text/plain": [
       "                                          CUISINES  \\\n",
       "0                  [malwani,  goan,  north indian]   \n",
       "1               [asian,  modern indian,  japanese]   \n",
       "2  [north indian,  chinese,  biryani,  hyderabadi]   \n",
       "3                              [tibetan,  chinese]   \n",
       "4                                       [desserts]   \n",
       "\n",
       "                                     TIME     CITY        LOCALITY RATING  \\\n",
       "0  11am – 4pm, 7:30pm – 11:30pm (Mon-Sun)    Thane  Dombivali East    3.6   \n",
       "1                    6pm – 11pm (Mon-Sun)  Chennai       Ramapuram    4.2   \n",
       "2     11am – 3:30pm, 7pm – 11pm (Mon-Sun)  Chennai      Saligramam    3.8   \n",
       "3                 11:30am – 1am (Mon-Sun)   Mumbai     Bandra West    4.1   \n",
       "4                    11am – 1am (Mon-Sun)   Mumbai     Lower Parel    3.8   \n",
       "\n",
       "       VOTES  COST     TITLE1   TITLE2     CUISINES1       CUISINES2  \\\n",
       "0   49 votes  1200     DINING   CASUAL       malwani            goan   \n",
       "1   30 votes  1500  DININGBAR   CASUAL         asian   modern indian   \n",
       "2  221 votes   800     DINING   CASUAL  north indian         chinese   \n",
       "3   24 votes   800      BITES    QUICK       tibetan         chinese   \n",
       "4  165 votes   300     PARLOR  DESSERT      desserts             NaN   \n",
       "\n",
       "       CUISINES3    CUISINES4 CUISINES5 CUISINES6 CUISINES7 CUISINES8  \\\n",
       "0   north indian          NaN       NaN       NaN       NaN       NaN   \n",
       "1       japanese          NaN       NaN       NaN       NaN       NaN   \n",
       "2        biryani   hyderabadi       NaN       NaN       NaN       NaN   \n",
       "3            NaN          NaN       NaN       NaN       NaN       NaN   \n",
       "4            NaN          NaN       NaN       NaN       NaN       NaN   \n",
       "\n",
       "  CUISINES9  \n",
       "0       NaN  \n",
       "1       NaN  \n",
       "2       NaN  \n",
       "3       NaN  \n",
       "4       NaN  "
      ]
     },
     "execution_count": 471,
     "metadata": {},
     "output_type": "execute_result"
    }
   ],
   "source": [
    "df_train.head()"
   ]
  },
  {
   "cell_type": "code",
   "execution_count": 472,
   "metadata": {},
   "outputs": [],
   "source": [
    "\n",
    "df_train.drop('CUISINES',axis=1,inplace=True)\n",
    "df_test.drop('CUISINES',axis=1,inplace=True)"
   ]
  },
  {
   "cell_type": "code",
   "execution_count": 473,
   "metadata": {},
   "outputs": [
    {
     "data": {
      "text/html": [
       "<div>\n",
       "<style scoped>\n",
       "    .dataframe tbody tr th:only-of-type {\n",
       "        vertical-align: middle;\n",
       "    }\n",
       "\n",
       "    .dataframe tbody tr th {\n",
       "        vertical-align: top;\n",
       "    }\n",
       "\n",
       "    .dataframe thead th {\n",
       "        text-align: right;\n",
       "    }\n",
       "</style>\n",
       "<table border=\"1\" class=\"dataframe\">\n",
       "  <thead>\n",
       "    <tr style=\"text-align: right;\">\n",
       "      <th></th>\n",
       "      <th>TIME</th>\n",
       "      <th>CITY</th>\n",
       "      <th>LOCALITY</th>\n",
       "      <th>RATING</th>\n",
       "      <th>VOTES</th>\n",
       "      <th>TITLE1</th>\n",
       "      <th>TITLE2</th>\n",
       "      <th>CUISINES1</th>\n",
       "      <th>CUISINES2</th>\n",
       "      <th>CUISINES3</th>\n",
       "      <th>CUISINES4</th>\n",
       "      <th>CUISINES5</th>\n",
       "      <th>CUISINES6</th>\n",
       "      <th>CUISINES7</th>\n",
       "      <th>CUISINES8</th>\n",
       "      <th>CUISINES9</th>\n",
       "    </tr>\n",
       "  </thead>\n",
       "  <tbody>\n",
       "    <tr>\n",
       "      <th>0</th>\n",
       "      <td>12noon – 12midnight (Mon-Sun)</td>\n",
       "      <td>Noida</td>\n",
       "      <td>Sector 18</td>\n",
       "      <td>4.3</td>\n",
       "      <td>564 votes</td>\n",
       "      <td>DINING</td>\n",
       "      <td>CASUAL</td>\n",
       "      <td>north indian</td>\n",
       "      <td>chinese</td>\n",
       "      <td>mughlai</td>\n",
       "      <td>kebab</td>\n",
       "      <td>NaN</td>\n",
       "      <td>NaN</td>\n",
       "      <td>NaN</td>\n",
       "      <td>NaN</td>\n",
       "      <td>NaN</td>\n",
       "    </tr>\n",
       "    <tr>\n",
       "      <th>1</th>\n",
       "      <td>7am – 12:30AM (Mon-Sun)</td>\n",
       "      <td>Mumbai</td>\n",
       "      <td>Grant Road</td>\n",
       "      <td>4.2</td>\n",
       "      <td>61 votes</td>\n",
       "      <td>BITES</td>\n",
       "      <td>QUICK</td>\n",
       "      <td>south indian</td>\n",
       "      <td>fast food</td>\n",
       "      <td>pizza</td>\n",
       "      <td>north indian</td>\n",
       "      <td>NaN</td>\n",
       "      <td>NaN</td>\n",
       "      <td>NaN</td>\n",
       "      <td>NaN</td>\n",
       "      <td>NaN</td>\n",
       "    </tr>\n",
       "    <tr>\n",
       "      <th>2</th>\n",
       "      <td>11am – 11:30pm (Mon-Sun)</td>\n",
       "      <td>Mumbai</td>\n",
       "      <td>Marine Lines</td>\n",
       "      <td>3.8</td>\n",
       "      <td>350 votes</td>\n",
       "      <td>DINING</td>\n",
       "      <td>CASUAL</td>\n",
       "      <td>north indian</td>\n",
       "      <td>seafood</td>\n",
       "      <td>biryani</td>\n",
       "      <td>chinese</td>\n",
       "      <td>NaN</td>\n",
       "      <td>NaN</td>\n",
       "      <td>NaN</td>\n",
       "      <td>NaN</td>\n",
       "      <td>NaN</td>\n",
       "    </tr>\n",
       "    <tr>\n",
       "      <th>3</th>\n",
       "      <td>9am – 10pm (Mon, Wed, Thu, Fri, Sat, Sun), 10:...</td>\n",
       "      <td>Faridabad</td>\n",
       "      <td>NIT</td>\n",
       "      <td>3.8</td>\n",
       "      <td>1445 votes</td>\n",
       "      <td>NONE</td>\n",
       "      <td>NONE</td>\n",
       "      <td>biryani</td>\n",
       "      <td>NaN</td>\n",
       "      <td>NaN</td>\n",
       "      <td>NaN</td>\n",
       "      <td>NaN</td>\n",
       "      <td>NaN</td>\n",
       "      <td>NaN</td>\n",
       "      <td>NaN</td>\n",
       "      <td>NaN</td>\n",
       "    </tr>\n",
       "    <tr>\n",
       "      <th>4</th>\n",
       "      <td>11am – 10pm (Mon-Sun)</td>\n",
       "      <td>Kochi</td>\n",
       "      <td>Kaloor</td>\n",
       "      <td>3.6</td>\n",
       "      <td>23 votes</td>\n",
       "      <td>BITES</td>\n",
       "      <td>QUICK</td>\n",
       "      <td>south indian</td>\n",
       "      <td>kerala</td>\n",
       "      <td>NaN</td>\n",
       "      <td>NaN</td>\n",
       "      <td>NaN</td>\n",
       "      <td>NaN</td>\n",
       "      <td>NaN</td>\n",
       "      <td>NaN</td>\n",
       "      <td>NaN</td>\n",
       "    </tr>\n",
       "  </tbody>\n",
       "</table>\n",
       "</div>"
      ],
      "text/plain": [
       "                                                TIME       CITY      LOCALITY  \\\n",
       "0                      12noon – 12midnight (Mon-Sun)      Noida     Sector 18   \n",
       "1                            7am – 12:30AM (Mon-Sun)     Mumbai    Grant Road   \n",
       "2                           11am – 11:30pm (Mon-Sun)     Mumbai  Marine Lines   \n",
       "3  9am – 10pm (Mon, Wed, Thu, Fri, Sat, Sun), 10:...  Faridabad           NIT   \n",
       "4                              11am – 10pm (Mon-Sun)      Kochi        Kaloor   \n",
       "\n",
       "  RATING       VOTES  TITLE1  TITLE2     CUISINES1   CUISINES2 CUISINES3  \\\n",
       "0    4.3   564 votes  DINING  CASUAL  north indian     chinese   mughlai   \n",
       "1    4.2    61 votes   BITES   QUICK  south indian   fast food     pizza   \n",
       "2    3.8   350 votes  DINING  CASUAL  north indian     seafood   biryani   \n",
       "3    3.8  1445 votes    NONE    NONE       biryani         NaN       NaN   \n",
       "4    3.6    23 votes   BITES   QUICK  south indian      kerala       NaN   \n",
       "\n",
       "       CUISINES4 CUISINES5 CUISINES6 CUISINES7 CUISINES8 CUISINES9  \n",
       "0          kebab       NaN       NaN       NaN       NaN       NaN  \n",
       "1   north indian       NaN       NaN       NaN       NaN       NaN  \n",
       "2        chinese       NaN       NaN       NaN       NaN       NaN  \n",
       "3            NaN       NaN       NaN       NaN       NaN       NaN  \n",
       "4            NaN       NaN       NaN       NaN       NaN       NaN  "
      ]
     },
     "execution_count": 473,
     "metadata": {},
     "output_type": "execute_result"
    }
   ],
   "source": [
    "df_test.head()"
   ]
  },
  {
   "cell_type": "code",
   "execution_count": 474,
   "metadata": {},
   "outputs": [],
   "source": [
    "#CITY\n",
    "df_train.CITY=df_train.CITY.str.upper()\n",
    "df_test.CITY=df_test.CITY.str.upper()"
   ]
  },
  {
   "cell_type": "code",
   "execution_count": 475,
   "metadata": {},
   "outputs": [],
   "source": [
    "#LOCALITY\n",
    "df_train.LOCALITY=df_train.LOCALITY.str.lower()\n",
    "df_test.LOCALITY=df_test.LOCALITY.str.lower()"
   ]
  },
  {
   "cell_type": "code",
   "execution_count": 476,
   "metadata": {},
   "outputs": [],
   "source": [
    "#RATING\n",
    "df_train.RATING=df_train.RATING.str.replace('NEW','0')\n",
    "df_test.RATING=df_test.RATING.str.replace('NEW','0')"
   ]
  },
  {
   "cell_type": "code",
   "execution_count": 477,
   "metadata": {},
   "outputs": [],
   "source": [
    "#RATING\n",
    "df_train.RATING=df_train.RATING.str.replace('-','0')\n",
    "df_test.RATING=df_test.RATING.str.replace('-','0')"
   ]
  },
  {
   "cell_type": "code",
   "execution_count": 478,
   "metadata": {},
   "outputs": [
    {
     "data": {
      "text/plain": [
       "array(['3.6', '4.2', '3.8', '4.1', '4.0', '4.3', '3.9', '3.3', '3.4', '0',\n",
       "       '4.5', '3.5', '4.4', '2.7', '3.7', '4.7', '3.1', '2.5', '4.6',\n",
       "       '2.8', '3.0', '3.2', '2.6', '2.9', '4.9', '4.8', '2.4', '2.3',\n",
       "       '2.0', '2.1', '2.2'], dtype=object)"
      ]
     },
     "execution_count": 478,
     "metadata": {},
     "output_type": "execute_result"
    }
   ],
   "source": [
    "df_train.RATING.unique()"
   ]
  },
  {
   "cell_type": "code",
   "execution_count": 479,
   "metadata": {},
   "outputs": [],
   "source": [
    "\n",
    "df_train.RATING=df_train.RATING.astype('float64')\n",
    "df_test.RATING=df_test.RATING.astype('float64')"
   ]
  },
  {
   "cell_type": "code",
   "execution_count": 480,
   "metadata": {},
   "outputs": [
    {
     "name": "stdout",
     "output_type": "stream",
     "text": [
      "<class 'pandas.core.frame.DataFrame'>\n",
      "RangeIndex: 12690 entries, 0 to 12689\n",
      "Data columns (total 17 columns):\n",
      " #   Column     Non-Null Count  Dtype  \n",
      "---  ------     --------------  -----  \n",
      " 0   TIME       12690 non-null  object \n",
      " 1   CITY       12690 non-null  object \n",
      " 2   LOCALITY   12690 non-null  object \n",
      " 3   RATING     12690 non-null  float64\n",
      " 4   VOTES      12690 non-null  object \n",
      " 5   COST       12690 non-null  int64  \n",
      " 6   TITLE1     12690 non-null  object \n",
      " 7   TITLE2     12690 non-null  object \n",
      " 8   CUISINES1  12690 non-null  object \n",
      " 9   CUISINES2  9628 non-null   object \n",
      " 10  CUISINES3  5691 non-null   object \n",
      " 11  CUISINES4  2695 non-null   object \n",
      " 12  CUISINES5  1015 non-null   object \n",
      " 13  CUISINES6  414 non-null    object \n",
      " 14  CUISINES7  176 non-null    object \n",
      " 15  CUISINES8  176 non-null    object \n",
      " 16  CUISINES9  77 non-null     object \n",
      "dtypes: float64(1), int64(1), object(15)\n",
      "memory usage: 1.6+ MB\n"
     ]
    }
   ],
   "source": [
    "df_train.info()"
   ]
  },
  {
   "cell_type": "code",
   "execution_count": 481,
   "metadata": {},
   "outputs": [],
   "source": [
    "#votes\n",
    "df_train.VOTES=df_train.VOTES.str.replace('votes','').astype(int)"
   ]
  },
  {
   "cell_type": "code",
   "execution_count": 482,
   "metadata": {},
   "outputs": [],
   "source": [
    "df_test.VOTES=df_test.VOTES.str.replace('votes','').astype(int)"
   ]
  },
  {
   "cell_type": "code",
   "execution_count": 483,
   "metadata": {},
   "outputs": [
    {
     "name": "stdout",
     "output_type": "stream",
     "text": [
      "<class 'pandas.core.frame.DataFrame'>\n",
      "RangeIndex: 4231 entries, 0 to 4230\n",
      "Data columns (total 16 columns):\n",
      " #   Column     Non-Null Count  Dtype  \n",
      "---  ------     --------------  -----  \n",
      " 0   TIME       4231 non-null   object \n",
      " 1   CITY       4231 non-null   object \n",
      " 2   LOCALITY   4231 non-null   object \n",
      " 3   RATING     4231 non-null   float64\n",
      " 4   VOTES      4231 non-null   int32  \n",
      " 5   TITLE1     4231 non-null   object \n",
      " 6   TITLE2     4231 non-null   object \n",
      " 7   CUISINES1  4231 non-null   object \n",
      " 8   CUISINES2  3246 non-null   object \n",
      " 9   CUISINES3  1900 non-null   object \n",
      " 10  CUISINES4  917 non-null    object \n",
      " 11  CUISINES5  356 non-null    object \n",
      " 12  CUISINES6  137 non-null    object \n",
      " 13  CUISINES7  74 non-null     object \n",
      " 14  CUISINES8  74 non-null     object \n",
      " 15  CUISINES9  31 non-null     object \n",
      "dtypes: float64(1), int32(1), object(14)\n",
      "memory usage: 512.5+ KB\n"
     ]
    }
   ],
   "source": [
    "df_test.info()"
   ]
  },
  {
   "cell_type": "code",
   "execution_count": 484,
   "metadata": {},
   "outputs": [],
   "source": [
    "#TIME\n",
    "\n",
    "df_train.drop('TIME',axis=1,inplace=True)\n",
    "df_test.drop('TIME',axis=1,inplace=True)"
   ]
  },
  {
   "cell_type": "code",
   "execution_count": 485,
   "metadata": {},
   "outputs": [
    {
     "data": {
      "text/plain": [
       "((12690, 16), (4231, 15))"
      ]
     },
     "execution_count": 485,
     "metadata": {},
     "output_type": "execute_result"
    }
   ],
   "source": [
    "df_train.shape,df_test.shape"
   ]
  },
  {
   "cell_type": "code",
   "execution_count": 486,
   "metadata": {},
   "outputs": [
    {
     "data": {
      "text/plain": [
       "CITY             0\n",
       "LOCALITY         0\n",
       "RATING           0\n",
       "VOTES            0\n",
       "COST             0\n",
       "TITLE1           0\n",
       "TITLE2           0\n",
       "CUISINES1        0\n",
       "CUISINES2     3062\n",
       "CUISINES3     6999\n",
       "CUISINES4     9995\n",
       "CUISINES5    11675\n",
       "CUISINES6    12276\n",
       "CUISINES7    12514\n",
       "CUISINES8    12514\n",
       "CUISINES9    12613\n",
       "dtype: int64"
      ]
     },
     "execution_count": 486,
     "metadata": {},
     "output_type": "execute_result"
    }
   ],
   "source": [
    "df_train.isnull().sum()"
   ]
  },
  {
   "cell_type": "code",
   "execution_count": 487,
   "metadata": {},
   "outputs": [],
   "source": [
    "df_train.fillna('none',inplace=True)\n",
    "df_test.fillna('none',inplace=True)"
   ]
  },
  {
   "cell_type": "code",
   "execution_count": 489,
   "metadata": {},
   "outputs": [
    {
     "data": {
      "text/plain": [
       "CITY         0\n",
       "LOCALITY     0\n",
       "RATING       0\n",
       "VOTES        0\n",
       "TITLE1       0\n",
       "TITLE2       0\n",
       "CUISINES1    0\n",
       "CUISINES2    0\n",
       "CUISINES3    0\n",
       "CUISINES4    0\n",
       "CUISINES5    0\n",
       "CUISINES6    0\n",
       "CUISINES7    0\n",
       "CUISINES8    0\n",
       "CUISINES9    0\n",
       "dtype: int64"
      ]
     },
     "execution_count": 489,
     "metadata": {},
     "output_type": "execute_result"
    }
   ],
   "source": [
    "df_test.isnull().sum()"
   ]
  },
  {
   "cell_type": "code",
   "execution_count": 490,
   "metadata": {},
   "outputs": [
    {
     "data": {
      "text/plain": [
       "(array([1.1513e+04, 9.7800e+02, 1.5500e+02, 3.6000e+01, 5.0000e+00,\n",
       "        1.0000e+00, 0.0000e+00, 1.0000e+00, 0.0000e+00, 1.0000e+00]),\n",
       " array([   20.,  1418.,  2816.,  4214.,  5612.,  7010.,  8408.,  9806.,\n",
       "        11204., 12602., 14000.]),\n",
       " <a list of 10 Patch objects>)"
      ]
     },
     "execution_count": 490,
     "metadata": {},
     "output_type": "execute_result"
    },
    {
     "data": {
      "image/png": "[encoded data removed]",
      "text/plain": [
       "<Figure size 432x288 with 1 Axes>"
      ]
     },
     "metadata": {
      "needs_background": "light"
     },
     "output_type": "display_data"
    }
   ],
   "source": [
    "plt.hist(df_train.COST)"
   ]
  },
  {
   "cell_type": "code",
   "execution_count": 492,
   "metadata": {},
   "outputs": [
    {
     "data": {
      "text/plain": [
       "<matplotlib.axes._subplots.AxesSubplot at 0x203df9239c8>"
      ]
     },
     "execution_count": 492,
     "metadata": {},
     "output_type": "execute_result"
    },
    {
     "data": {
      "image/png": "[encoded data removed]",
      "text/plain": [
       "<Figure size 1080x432 with 1 Axes>"
      ]
     },
     "metadata": {
      "needs_background": "light"
     },
     "output_type": "display_data"
    }
   ],
   "source": [
    "plt.figure(figsize=(15,6))\n",
    "sns.countplot(df_train.CUISINES9)"
   ]
  },
  {
   "cell_type": "code",
   "execution_count": 493,
   "metadata": {},
   "outputs": [
    {
     "data": {
      "text/plain": [
       "<matplotlib.axes._subplots.AxesSubplot at 0x203df7f7748>"
      ]
     },
     "execution_count": 493,
     "metadata": {},
     "output_type": "execute_result"
    },
    {
     "data": {
      "image/png": "[encoded data removed]",
      "text/plain": [
       "<Figure size 1296x432 with 1 Axes>"
      ]
     },
     "metadata": {
      "needs_background": "light"
     },
     "output_type": "display_data"
    }
   ],
   "source": [
    "plt.figure(figsize=(18,6))\n",
    "\n",
    "sns.barplot(df_train.RATING,df_train.COST)"
   ]
  },
  {
   "cell_type": "markdown",
   "metadata": {},
   "source": [
    "# Labeling"
   ]
  },
  {
   "cell_type": "code",
   "execution_count": 495,
   "metadata": {},
   "outputs": [],
   "source": [
    "from sklearn.preprocessing import LabelEncoder\n",
    "le=LabelEncoder()"
   ]
  },
  {
   "cell_type": "code",
   "execution_count": 496,
   "metadata": {},
   "outputs": [
    {
     "name": "stdout",
     "output_type": "stream",
     "text": [
      "<class 'pandas.core.frame.DataFrame'>\n",
      "RangeIndex: 12690 entries, 0 to 12689\n",
      "Data columns (total 16 columns):\n",
      " #   Column     Non-Null Count  Dtype  \n",
      "---  ------     --------------  -----  \n",
      " 0   CITY       12690 non-null  object \n",
      " 1   LOCALITY   12690 non-null  object \n",
      " 2   RATING     12690 non-null  float64\n",
      " 3   VOTES      12690 non-null  int32  \n",
      " 4   COST       12690 non-null  int64  \n",
      " 5   TITLE1     12690 non-null  object \n",
      " 6   TITLE2     12690 non-null  object \n",
      " 7   CUISINES1  12690 non-null  object \n",
      " 8   CUISINES2  12690 non-null  object \n",
      " 9   CUISINES3  12690 non-null  object \n",
      " 10  CUISINES4  12690 non-null  object \n",
      " 11  CUISINES5  12690 non-null  object \n",
      " 12  CUISINES6  12690 non-null  object \n",
      " 13  CUISINES7  12690 non-null  object \n",
      " 14  CUISINES8  12690 non-null  object \n",
      " 15  CUISINES9  12690 non-null  object \n",
      "dtypes: float64(1), int32(1), int64(1), object(13)\n",
      "memory usage: 1.5+ MB\n"
     ]
    }
   ],
   "source": [
    "df_train.info()"
   ]
  },
  {
   "cell_type": "code",
   "execution_count": 497,
   "metadata": {},
   "outputs": [
    {
     "data": {
      "text/plain": [
       "Index(['CITY', 'LOCALITY', 'RATING', 'VOTES', 'COST', 'TITLE1', 'TITLE2',\n",
       "       'CUISINES1', 'CUISINES2', 'CUISINES3', 'CUISINES4', 'CUISINES5',\n",
       "       'CUISINES6', 'CUISINES7', 'CUISINES8', 'CUISINES9'],\n",
       "      dtype='object')"
      ]
     },
     "execution_count": 497,
     "metadata": {},
     "output_type": "execute_result"
    }
   ],
   "source": [
    "df_train.columns"
   ]
  },
  {
   "cell_type": "code",
   "execution_count": 498,
   "metadata": {},
   "outputs": [],
   "source": [
    "df_train[['CITY','LOCALITY','TITLE1', 'TITLE2','CUISINES1', 'CUISINES2', 'CUISINES3', 'CUISINES4', 'CUISINES5','CUISINES6', 'CUISINES7', 'CUISINES8', 'CUISINES9']]=df_train[['CITY','LOCALITY','TITLE1', 'TITLE2','CUISINES1', 'CUISINES2', 'CUISINES3', 'CUISINES4', 'CUISINES5','CUISINES6', 'CUISINES7', 'CUISINES8', 'CUISINES9']].apply(le.fit_transform)\n",
    "df_test[['CITY','LOCALITY','TITLE1', 'TITLE2','CUISINES1', 'CUISINES2', 'CUISINES3', 'CUISINES4', 'CUISINES5','CUISINES6', 'CUISINES7', 'CUISINES8', 'CUISINES9']]=df_train[['CITY','LOCALITY','TITLE1', 'TITLE2','CUISINES1', 'CUISINES2', 'CUISINES3', 'CUISINES4', 'CUISINES5','CUISINES6', 'CUISINES7', 'CUISINES8', 'CUISINES9']].apply(le.fit_transform)"
   ]
  },
  {
   "cell_type": "code",
   "execution_count": 499,
   "metadata": {},
   "outputs": [
    {
     "data": {
      "text/html": [
       "<div>\n",
       "<style scoped>\n",
       "    .dataframe tbody tr th:only-of-type {\n",
       "        vertical-align: middle;\n",
       "    }\n",
       "\n",
       "    .dataframe tbody tr th {\n",
       "        vertical-align: top;\n",
       "    }\n",
       "\n",
       "    .dataframe thead th {\n",
       "        text-align: right;\n",
       "    }\n",
       "</style>\n",
       "<table border=\"1\" class=\"dataframe\">\n",
       "  <thead>\n",
       "    <tr style=\"text-align: right;\">\n",
       "      <th></th>\n",
       "      <th>CITY</th>\n",
       "      <th>LOCALITY</th>\n",
       "      <th>RATING</th>\n",
       "      <th>VOTES</th>\n",
       "      <th>COST</th>\n",
       "      <th>TITLE1</th>\n",
       "      <th>TITLE2</th>\n",
       "      <th>CUISINES1</th>\n",
       "      <th>CUISINES2</th>\n",
       "      <th>CUISINES3</th>\n",
       "      <th>CUISINES4</th>\n",
       "      <th>CUISINES5</th>\n",
       "      <th>CUISINES6</th>\n",
       "      <th>CUISINES7</th>\n",
       "      <th>CUISINES8</th>\n",
       "      <th>CUISINES9</th>\n",
       "    </tr>\n",
       "  </thead>\n",
       "  <tbody>\n",
       "    <tr>\n",
       "      <th>0</th>\n",
       "      <td>326</td>\n",
       "      <td>279</td>\n",
       "      <td>3.6</td>\n",
       "      <td>49</td>\n",
       "      <td>1200</td>\n",
       "      <td>25</td>\n",
       "      <td>26</td>\n",
       "      <td>59</td>\n",
       "      <td>32</td>\n",
       "      <td>66</td>\n",
       "      <td>85</td>\n",
       "      <td>78</td>\n",
       "      <td>69</td>\n",
       "      <td>47</td>\n",
       "      <td>47</td>\n",
       "      <td>19</td>\n",
       "    </tr>\n",
       "    <tr>\n",
       "      <th>1</th>\n",
       "      <td>67</td>\n",
       "      <td>1037</td>\n",
       "      <td>4.2</td>\n",
       "      <td>30</td>\n",
       "      <td>1500</td>\n",
       "      <td>27</td>\n",
       "      <td>26</td>\n",
       "      <td>6</td>\n",
       "      <td>60</td>\n",
       "      <td>41</td>\n",
       "      <td>85</td>\n",
       "      <td>78</td>\n",
       "      <td>69</td>\n",
       "      <td>47</td>\n",
       "      <td>47</td>\n",
       "      <td>19</td>\n",
       "    </tr>\n",
       "    <tr>\n",
       "      <th>2</th>\n",
       "      <td>67</td>\n",
       "      <td>1092</td>\n",
       "      <td>3.8</td>\n",
       "      <td>221</td>\n",
       "      <td>800</td>\n",
       "      <td>25</td>\n",
       "      <td>26</td>\n",
       "      <td>72</td>\n",
       "      <td>23</td>\n",
       "      <td>12</td>\n",
       "      <td>32</td>\n",
       "      <td>78</td>\n",
       "      <td>69</td>\n",
       "      <td>47</td>\n",
       "      <td>47</td>\n",
       "      <td>19</td>\n",
       "    </tr>\n",
       "    <tr>\n",
       "      <th>3</th>\n",
       "      <td>225</td>\n",
       "      <td>127</td>\n",
       "      <td>4.1</td>\n",
       "      <td>24</td>\n",
       "      <td>800</td>\n",
       "      <td>9</td>\n",
       "      <td>63</td>\n",
       "      <td>100</td>\n",
       "      <td>23</td>\n",
       "      <td>93</td>\n",
       "      <td>85</td>\n",
       "      <td>78</td>\n",
       "      <td>69</td>\n",
       "      <td>47</td>\n",
       "      <td>47</td>\n",
       "      <td>19</td>\n",
       "    </tr>\n",
       "    <tr>\n",
       "      <th>4</th>\n",
       "      <td>225</td>\n",
       "      <td>613</td>\n",
       "      <td>3.8</td>\n",
       "      <td>165</td>\n",
       "      <td>300</td>\n",
       "      <td>46</td>\n",
       "      <td>33</td>\n",
       "      <td>28</td>\n",
       "      <td>98</td>\n",
       "      <td>93</td>\n",
       "      <td>85</td>\n",
       "      <td>78</td>\n",
       "      <td>69</td>\n",
       "      <td>47</td>\n",
       "      <td>47</td>\n",
       "      <td>19</td>\n",
       "    </tr>\n",
       "  </tbody>\n",
       "</table>\n",
       "</div>"
      ],
      "text/plain": [
       "   CITY  LOCALITY  RATING  VOTES  COST  TITLE1  TITLE2  CUISINES1  CUISINES2  \\\n",
       "0   326       279     3.6     49  1200      25      26         59         32   \n",
       "1    67      1037     4.2     30  1500      27      26          6         60   \n",
       "2    67      1092     3.8    221   800      25      26         72         23   \n",
       "3   225       127     4.1     24   800       9      63        100         23   \n",
       "4   225       613     3.8    165   300      46      33         28         98   \n",
       "\n",
       "   CUISINES3  CUISINES4  CUISINES5  CUISINES6  CUISINES7  CUISINES8  CUISINES9  \n",
       "0         66         85         78         69         47         47         19  \n",
       "1         41         85         78         69         47         47         19  \n",
       "2         12         32         78         69         47         47         19  \n",
       "3         93         85         78         69         47         47         19  \n",
       "4         93         85         78         69         47         47         19  "
      ]
     },
     "execution_count": 499,
     "metadata": {},
     "output_type": "execute_result"
    }
   ],
   "source": [
    "df_train.head()"
   ]
  },
  {
   "cell_type": "code",
   "execution_count": 500,
   "metadata": {},
   "outputs": [
    {
     "data": {
      "text/html": [
       "<div>\n",
       "<style scoped>\n",
       "    .dataframe tbody tr th:only-of-type {\n",
       "        vertical-align: middle;\n",
       "    }\n",
       "\n",
       "    .dataframe tbody tr th {\n",
       "        vertical-align: top;\n",
       "    }\n",
       "\n",
       "    .dataframe thead th {\n",
       "        text-align: right;\n",
       "    }\n",
       "</style>\n",
       "<table border=\"1\" class=\"dataframe\">\n",
       "  <thead>\n",
       "    <tr style=\"text-align: right;\">\n",
       "      <th></th>\n",
       "      <th>CITY</th>\n",
       "      <th>LOCALITY</th>\n",
       "      <th>RATING</th>\n",
       "      <th>VOTES</th>\n",
       "      <th>TITLE1</th>\n",
       "      <th>TITLE2</th>\n",
       "      <th>CUISINES1</th>\n",
       "      <th>CUISINES2</th>\n",
       "      <th>CUISINES3</th>\n",
       "      <th>CUISINES4</th>\n",
       "      <th>CUISINES5</th>\n",
       "      <th>CUISINES6</th>\n",
       "      <th>CUISINES7</th>\n",
       "      <th>CUISINES8</th>\n",
       "      <th>CUISINES9</th>\n",
       "    </tr>\n",
       "  </thead>\n",
       "  <tbody>\n",
       "    <tr>\n",
       "      <th>0</th>\n",
       "      <td>326</td>\n",
       "      <td>279</td>\n",
       "      <td>4.3</td>\n",
       "      <td>564</td>\n",
       "      <td>25</td>\n",
       "      <td>26</td>\n",
       "      <td>59</td>\n",
       "      <td>32</td>\n",
       "      <td>66</td>\n",
       "      <td>85</td>\n",
       "      <td>78</td>\n",
       "      <td>69</td>\n",
       "      <td>47</td>\n",
       "      <td>47</td>\n",
       "      <td>19</td>\n",
       "    </tr>\n",
       "    <tr>\n",
       "      <th>1</th>\n",
       "      <td>67</td>\n",
       "      <td>1037</td>\n",
       "      <td>4.2</td>\n",
       "      <td>61</td>\n",
       "      <td>27</td>\n",
       "      <td>26</td>\n",
       "      <td>6</td>\n",
       "      <td>60</td>\n",
       "      <td>41</td>\n",
       "      <td>85</td>\n",
       "      <td>78</td>\n",
       "      <td>69</td>\n",
       "      <td>47</td>\n",
       "      <td>47</td>\n",
       "      <td>19</td>\n",
       "    </tr>\n",
       "    <tr>\n",
       "      <th>2</th>\n",
       "      <td>67</td>\n",
       "      <td>1092</td>\n",
       "      <td>3.8</td>\n",
       "      <td>350</td>\n",
       "      <td>25</td>\n",
       "      <td>26</td>\n",
       "      <td>72</td>\n",
       "      <td>23</td>\n",
       "      <td>12</td>\n",
       "      <td>32</td>\n",
       "      <td>78</td>\n",
       "      <td>69</td>\n",
       "      <td>47</td>\n",
       "      <td>47</td>\n",
       "      <td>19</td>\n",
       "    </tr>\n",
       "    <tr>\n",
       "      <th>3</th>\n",
       "      <td>225</td>\n",
       "      <td>127</td>\n",
       "      <td>3.8</td>\n",
       "      <td>1445</td>\n",
       "      <td>9</td>\n",
       "      <td>63</td>\n",
       "      <td>100</td>\n",
       "      <td>23</td>\n",
       "      <td>93</td>\n",
       "      <td>85</td>\n",
       "      <td>78</td>\n",
       "      <td>69</td>\n",
       "      <td>47</td>\n",
       "      <td>47</td>\n",
       "      <td>19</td>\n",
       "    </tr>\n",
       "    <tr>\n",
       "      <th>4</th>\n",
       "      <td>225</td>\n",
       "      <td>613</td>\n",
       "      <td>3.6</td>\n",
       "      <td>23</td>\n",
       "      <td>46</td>\n",
       "      <td>33</td>\n",
       "      <td>28</td>\n",
       "      <td>98</td>\n",
       "      <td>93</td>\n",
       "      <td>85</td>\n",
       "      <td>78</td>\n",
       "      <td>69</td>\n",
       "      <td>47</td>\n",
       "      <td>47</td>\n",
       "      <td>19</td>\n",
       "    </tr>\n",
       "  </tbody>\n",
       "</table>\n",
       "</div>"
      ],
      "text/plain": [
       "   CITY  LOCALITY  RATING  VOTES  TITLE1  TITLE2  CUISINES1  CUISINES2  \\\n",
       "0   326       279     4.3    564      25      26         59         32   \n",
       "1    67      1037     4.2     61      27      26          6         60   \n",
       "2    67      1092     3.8    350      25      26         72         23   \n",
       "3   225       127     3.8   1445       9      63        100         23   \n",
       "4   225       613     3.6     23      46      33         28         98   \n",
       "\n",
       "   CUISINES3  CUISINES4  CUISINES5  CUISINES6  CUISINES7  CUISINES8  CUISINES9  \n",
       "0         66         85         78         69         47         47         19  \n",
       "1         41         85         78         69         47         47         19  \n",
       "2         12         32         78         69         47         47         19  \n",
       "3         93         85         78         69         47         47         19  \n",
       "4         93         85         78         69         47         47         19  "
      ]
     },
     "execution_count": 500,
     "metadata": {},
     "output_type": "execute_result"
    }
   ],
   "source": [
    "df_test.head()"
   ]
  },
  {
   "cell_type": "markdown",
   "metadata": {},
   "source": [
    "# Correlation"
   ]
  },
  {
   "cell_type": "code",
   "execution_count": 501,
   "metadata": {},
   "outputs": [
    {
     "data": {
      "text/html": [
       "<div>\n",
       "<style scoped>\n",
       "    .dataframe tbody tr th:only-of-type {\n",
       "        vertical-align: middle;\n",
       "    }\n",
       "\n",
       "    .dataframe tbody tr th {\n",
       "        vertical-align: top;\n",
       "    }\n",
       "\n",
       "    .dataframe thead th {\n",
       "        text-align: right;\n",
       "    }\n",
       "</style>\n",
       "<table border=\"1\" class=\"dataframe\">\n",
       "  <thead>\n",
       "    <tr style=\"text-align: right;\">\n",
       "      <th></th>\n",
       "      <th>CITY</th>\n",
       "      <th>LOCALITY</th>\n",
       "      <th>RATING</th>\n",
       "      <th>VOTES</th>\n",
       "      <th>COST</th>\n",
       "      <th>TITLE1</th>\n",
       "      <th>TITLE2</th>\n",
       "      <th>CUISINES1</th>\n",
       "      <th>CUISINES2</th>\n",
       "      <th>CUISINES3</th>\n",
       "      <th>CUISINES4</th>\n",
       "      <th>CUISINES5</th>\n",
       "      <th>CUISINES6</th>\n",
       "      <th>CUISINES7</th>\n",
       "      <th>CUISINES8</th>\n",
       "      <th>CUISINES9</th>\n",
       "    </tr>\n",
       "  </thead>\n",
       "  <tbody>\n",
       "    <tr>\n",
       "      <th>CITY</th>\n",
       "      <td>1.000000</td>\n",
       "      <td>0.040375</td>\n",
       "      <td>-0.057013</td>\n",
       "      <td>0.041766</td>\n",
       "      <td>0.043326</td>\n",
       "      <td>0.031019</td>\n",
       "      <td>-0.017951</td>\n",
       "      <td>0.011924</td>\n",
       "      <td>0.009440</td>\n",
       "      <td>0.000641</td>\n",
       "      <td>0.003583</td>\n",
       "      <td>-0.003562</td>\n",
       "      <td>0.000865</td>\n",
       "      <td>-0.004622</td>\n",
       "      <td>-0.004622</td>\n",
       "      <td>-0.000523</td>\n",
       "    </tr>\n",
       "    <tr>\n",
       "      <th>LOCALITY</th>\n",
       "      <td>0.040375</td>\n",
       "      <td>1.000000</td>\n",
       "      <td>-0.017828</td>\n",
       "      <td>-0.030093</td>\n",
       "      <td>-0.015541</td>\n",
       "      <td>-0.017416</td>\n",
       "      <td>0.028478</td>\n",
       "      <td>0.019641</td>\n",
       "      <td>0.021574</td>\n",
       "      <td>0.014757</td>\n",
       "      <td>0.017324</td>\n",
       "      <td>0.016364</td>\n",
       "      <td>0.012840</td>\n",
       "      <td>0.020409</td>\n",
       "      <td>0.020409</td>\n",
       "      <td>0.023989</td>\n",
       "    </tr>\n",
       "    <tr>\n",
       "      <th>RATING</th>\n",
       "      <td>-0.057013</td>\n",
       "      <td>-0.017828</td>\n",
       "      <td>1.000000</td>\n",
       "      <td>0.243875</td>\n",
       "      <td>0.232194</td>\n",
       "      <td>0.084981</td>\n",
       "      <td>-0.111549</td>\n",
       "      <td>-0.023285</td>\n",
       "      <td>-0.093964</td>\n",
       "      <td>-0.119617</td>\n",
       "      <td>-0.118987</td>\n",
       "      <td>-0.084089</td>\n",
       "      <td>-0.071299</td>\n",
       "      <td>-0.040067</td>\n",
       "      <td>-0.040067</td>\n",
       "      <td>-0.029935</td>\n",
       "    </tr>\n",
       "    <tr>\n",
       "      <th>VOTES</th>\n",
       "      <td>0.041766</td>\n",
       "      <td>-0.030093</td>\n",
       "      <td>0.243875</td>\n",
       "      <td>1.000000</td>\n",
       "      <td>0.255723</td>\n",
       "      <td>0.070323</td>\n",
       "      <td>-0.133116</td>\n",
       "      <td>-0.040004</td>\n",
       "      <td>-0.086104</td>\n",
       "      <td>-0.146873</td>\n",
       "      <td>-0.139265</td>\n",
       "      <td>-0.100959</td>\n",
       "      <td>-0.069244</td>\n",
       "      <td>-0.060479</td>\n",
       "      <td>-0.060479</td>\n",
       "      <td>-0.064379</td>\n",
       "    </tr>\n",
       "    <tr>\n",
       "      <th>COST</th>\n",
       "      <td>0.043326</td>\n",
       "      <td>-0.015541</td>\n",
       "      <td>0.232194</td>\n",
       "      <td>0.255723</td>\n",
       "      <td>1.000000</td>\n",
       "      <td>0.125410</td>\n",
       "      <td>-0.291586</td>\n",
       "      <td>-0.038191</td>\n",
       "      <td>-0.078027</td>\n",
       "      <td>-0.172210</td>\n",
       "      <td>-0.173326</td>\n",
       "      <td>-0.112673</td>\n",
       "      <td>-0.082179</td>\n",
       "      <td>-0.053524</td>\n",
       "      <td>-0.053524</td>\n",
       "      <td>-0.044307</td>\n",
       "    </tr>\n",
       "    <tr>\n",
       "      <th>TITLE1</th>\n",
       "      <td>0.031019</td>\n",
       "      <td>-0.017416</td>\n",
       "      <td>0.084981</td>\n",
       "      <td>0.070323</td>\n",
       "      <td>0.125410</td>\n",
       "      <td>1.000000</td>\n",
       "      <td>-0.225418</td>\n",
       "      <td>-0.031378</td>\n",
       "      <td>-0.062343</td>\n",
       "      <td>-0.037483</td>\n",
       "      <td>-0.045193</td>\n",
       "      <td>-0.053299</td>\n",
       "      <td>-0.037468</td>\n",
       "      <td>-0.022483</td>\n",
       "      <td>-0.022483</td>\n",
       "      <td>-0.015554</td>\n",
       "    </tr>\n",
       "    <tr>\n",
       "      <th>TITLE2</th>\n",
       "      <td>-0.017951</td>\n",
       "      <td>0.028478</td>\n",
       "      <td>-0.111549</td>\n",
       "      <td>-0.133116</td>\n",
       "      <td>-0.291586</td>\n",
       "      <td>-0.225418</td>\n",
       "      <td>1.000000</td>\n",
       "      <td>0.256908</td>\n",
       "      <td>0.141587</td>\n",
       "      <td>0.159394</td>\n",
       "      <td>0.136109</td>\n",
       "      <td>0.096516</td>\n",
       "      <td>0.054547</td>\n",
       "      <td>0.029801</td>\n",
       "      <td>0.029801</td>\n",
       "      <td>0.020577</td>\n",
       "    </tr>\n",
       "    <tr>\n",
       "      <th>CUISINES1</th>\n",
       "      <td>0.011924</td>\n",
       "      <td>0.019641</td>\n",
       "      <td>-0.023285</td>\n",
       "      <td>-0.040004</td>\n",
       "      <td>-0.038191</td>\n",
       "      <td>-0.031378</td>\n",
       "      <td>0.256908</td>\n",
       "      <td>1.000000</td>\n",
       "      <td>0.038403</td>\n",
       "      <td>-0.019088</td>\n",
       "      <td>0.034471</td>\n",
       "      <td>0.032462</td>\n",
       "      <td>0.040257</td>\n",
       "      <td>0.037962</td>\n",
       "      <td>0.037962</td>\n",
       "      <td>0.034275</td>\n",
       "    </tr>\n",
       "    <tr>\n",
       "      <th>CUISINES2</th>\n",
       "      <td>0.009440</td>\n",
       "      <td>0.021574</td>\n",
       "      <td>-0.093964</td>\n",
       "      <td>-0.086104</td>\n",
       "      <td>-0.078027</td>\n",
       "      <td>-0.062343</td>\n",
       "      <td>0.141587</td>\n",
       "      <td>0.038403</td>\n",
       "      <td>1.000000</td>\n",
       "      <td>0.264643</td>\n",
       "      <td>0.157305</td>\n",
       "      <td>0.102783</td>\n",
       "      <td>0.088306</td>\n",
       "      <td>0.055967</td>\n",
       "      <td>0.055967</td>\n",
       "      <td>0.047818</td>\n",
       "    </tr>\n",
       "    <tr>\n",
       "      <th>CUISINES3</th>\n",
       "      <td>0.000641</td>\n",
       "      <td>0.014757</td>\n",
       "      <td>-0.119617</td>\n",
       "      <td>-0.146873</td>\n",
       "      <td>-0.172210</td>\n",
       "      <td>-0.037483</td>\n",
       "      <td>0.159394</td>\n",
       "      <td>-0.019088</td>\n",
       "      <td>0.264643</td>\n",
       "      <td>1.000000</td>\n",
       "      <td>0.388741</td>\n",
       "      <td>0.215509</td>\n",
       "      <td>0.141670</td>\n",
       "      <td>0.097392</td>\n",
       "      <td>0.097392</td>\n",
       "      <td>0.078146</td>\n",
       "    </tr>\n",
       "    <tr>\n",
       "      <th>CUISINES4</th>\n",
       "      <td>0.003583</td>\n",
       "      <td>0.017324</td>\n",
       "      <td>-0.118987</td>\n",
       "      <td>-0.139265</td>\n",
       "      <td>-0.173326</td>\n",
       "      <td>-0.045193</td>\n",
       "      <td>0.136109</td>\n",
       "      <td>0.034471</td>\n",
       "      <td>0.157305</td>\n",
       "      <td>0.388741</td>\n",
       "      <td>1.000000</td>\n",
       "      <td>0.415444</td>\n",
       "      <td>0.278534</td>\n",
       "      <td>0.180257</td>\n",
       "      <td>0.180257</td>\n",
       "      <td>0.132577</td>\n",
       "    </tr>\n",
       "    <tr>\n",
       "      <th>CUISINES5</th>\n",
       "      <td>-0.003562</td>\n",
       "      <td>0.016364</td>\n",
       "      <td>-0.084089</td>\n",
       "      <td>-0.100959</td>\n",
       "      <td>-0.112673</td>\n",
       "      <td>-0.053299</td>\n",
       "      <td>0.096516</td>\n",
       "      <td>0.032462</td>\n",
       "      <td>0.102783</td>\n",
       "      <td>0.215509</td>\n",
       "      <td>0.415444</td>\n",
       "      <td>1.000000</td>\n",
       "      <td>0.491222</td>\n",
       "      <td>0.322652</td>\n",
       "      <td>0.322652</td>\n",
       "      <td>0.216473</td>\n",
       "    </tr>\n",
       "    <tr>\n",
       "      <th>CUISINES6</th>\n",
       "      <td>0.000865</td>\n",
       "      <td>0.012840</td>\n",
       "      <td>-0.071299</td>\n",
       "      <td>-0.069244</td>\n",
       "      <td>-0.082179</td>\n",
       "      <td>-0.037468</td>\n",
       "      <td>0.054547</td>\n",
       "      <td>0.040257</td>\n",
       "      <td>0.088306</td>\n",
       "      <td>0.141670</td>\n",
       "      <td>0.278534</td>\n",
       "      <td>0.491222</td>\n",
       "      <td>1.000000</td>\n",
       "      <td>0.514857</td>\n",
       "      <td>0.514857</td>\n",
       "      <td>0.318110</td>\n",
       "    </tr>\n",
       "    <tr>\n",
       "      <th>CUISINES7</th>\n",
       "      <td>-0.004622</td>\n",
       "      <td>0.020409</td>\n",
       "      <td>-0.040067</td>\n",
       "      <td>-0.060479</td>\n",
       "      <td>-0.053524</td>\n",
       "      <td>-0.022483</td>\n",
       "      <td>0.029801</td>\n",
       "      <td>0.037962</td>\n",
       "      <td>0.055967</td>\n",
       "      <td>0.097392</td>\n",
       "      <td>0.180257</td>\n",
       "      <td>0.322652</td>\n",
       "      <td>0.514857</td>\n",
       "      <td>1.000000</td>\n",
       "      <td>1.000000</td>\n",
       "      <td>0.582445</td>\n",
       "    </tr>\n",
       "    <tr>\n",
       "      <th>CUISINES8</th>\n",
       "      <td>-0.004622</td>\n",
       "      <td>0.020409</td>\n",
       "      <td>-0.040067</td>\n",
       "      <td>-0.060479</td>\n",
       "      <td>-0.053524</td>\n",
       "      <td>-0.022483</td>\n",
       "      <td>0.029801</td>\n",
       "      <td>0.037962</td>\n",
       "      <td>0.055967</td>\n",
       "      <td>0.097392</td>\n",
       "      <td>0.180257</td>\n",
       "      <td>0.322652</td>\n",
       "      <td>0.514857</td>\n",
       "      <td>1.000000</td>\n",
       "      <td>1.000000</td>\n",
       "      <td>0.582445</td>\n",
       "    </tr>\n",
       "    <tr>\n",
       "      <th>CUISINES9</th>\n",
       "      <td>-0.000523</td>\n",
       "      <td>0.023989</td>\n",
       "      <td>-0.029935</td>\n",
       "      <td>-0.064379</td>\n",
       "      <td>-0.044307</td>\n",
       "      <td>-0.015554</td>\n",
       "      <td>0.020577</td>\n",
       "      <td>0.034275</td>\n",
       "      <td>0.047818</td>\n",
       "      <td>0.078146</td>\n",
       "      <td>0.132577</td>\n",
       "      <td>0.216473</td>\n",
       "      <td>0.318110</td>\n",
       "      <td>0.582445</td>\n",
       "      <td>0.582445</td>\n",
       "      <td>1.000000</td>\n",
       "    </tr>\n",
       "  </tbody>\n",
       "</table>\n",
       "</div>"
      ],
      "text/plain": [
       "               CITY  LOCALITY    RATING     VOTES      COST    TITLE1  \\\n",
       "CITY       1.000000  0.040375 -0.057013  0.041766  0.043326  0.031019   \n",
       "LOCALITY   0.040375  1.000000 -0.017828 -0.030093 -0.015541 -0.017416   \n",
       "RATING    -0.057013 -0.017828  1.000000  0.243875  0.232194  0.084981   \n",
       "VOTES      0.041766 -0.030093  0.243875  1.000000  0.255723  0.070323   \n",
       "COST       0.043326 -0.015541  0.232194  0.255723  1.000000  0.125410   \n",
       "TITLE1     0.031019 -0.017416  0.084981  0.070323  0.125410  1.000000   \n",
       "TITLE2    -0.017951  0.028478 -0.111549 -0.133116 -0.291586 -0.225418   \n",
       "CUISINES1  0.011924  0.019641 -0.023285 -0.040004 -0.038191 -0.031378   \n",
       "CUISINES2  0.009440  0.021574 -0.093964 -0.086104 -0.078027 -0.062343   \n",
       "CUISINES3  0.000641  0.014757 -0.119617 -0.146873 -0.172210 -0.037483   \n",
       "CUISINES4  0.003583  0.017324 -0.118987 -0.139265 -0.173326 -0.045193   \n",
       "CUISINES5 -0.003562  0.016364 -0.084089 -0.100959 -0.112673 -0.053299   \n",
       "CUISINES6  0.000865  0.012840 -0.071299 -0.069244 -0.082179 -0.037468   \n",
       "CUISINES7 -0.004622  0.020409 -0.040067 -0.060479 -0.053524 -0.022483   \n",
       "CUISINES8 -0.004622  0.020409 -0.040067 -0.060479 -0.053524 -0.022483   \n",
       "CUISINES9 -0.000523  0.023989 -0.029935 -0.064379 -0.044307 -0.015554   \n",
       "\n",
       "             TITLE2  CUISINES1  CUISINES2  CUISINES3  CUISINES4  CUISINES5  \\\n",
       "CITY      -0.017951   0.011924   0.009440   0.000641   0.003583  -0.003562   \n",
       "LOCALITY   0.028478   0.019641   0.021574   0.014757   0.017324   0.016364   \n",
       "RATING    -0.111549  -0.023285  -0.093964  -0.119617  -0.118987  -0.084089   \n",
       "VOTES     -0.133116  -0.040004  -0.086104  -0.146873  -0.139265  -0.100959   \n",
       "COST      -0.291586  -0.038191  -0.078027  -0.172210  -0.173326  -0.112673   \n",
       "TITLE1    -0.225418  -0.031378  -0.062343  -0.037483  -0.045193  -0.053299   \n",
       "TITLE2     1.000000   0.256908   0.141587   0.159394   0.136109   0.096516   \n",
       "CUISINES1  0.256908   1.000000   0.038403  -0.019088   0.034471   0.032462   \n",
       "CUISINES2  0.141587   0.038403   1.000000   0.264643   0.157305   0.102783   \n",
       "CUISINES3  0.159394  -0.019088   0.264643   1.000000   0.388741   0.215509   \n",
       "CUISINES4  0.136109   0.034471   0.157305   0.388741   1.000000   0.415444   \n",
       "CUISINES5  0.096516   0.032462   0.102783   0.215509   0.415444   1.000000   \n",
       "CUISINES6  0.054547   0.040257   0.088306   0.141670   0.278534   0.491222   \n",
       "CUISINES7  0.029801   0.037962   0.055967   0.097392   0.180257   0.322652   \n",
       "CUISINES8  0.029801   0.037962   0.055967   0.097392   0.180257   0.322652   \n",
       "CUISINES9  0.020577   0.034275   0.047818   0.078146   0.132577   0.216473   \n",
       "\n",
       "           CUISINES6  CUISINES7  CUISINES8  CUISINES9  \n",
       "CITY        0.000865  -0.004622  -0.004622  -0.000523  \n",
       "LOCALITY    0.012840   0.020409   0.020409   0.023989  \n",
       "RATING     -0.071299  -0.040067  -0.040067  -0.029935  \n",
       "VOTES      -0.069244  -0.060479  -0.060479  -0.064379  \n",
       "COST       -0.082179  -0.053524  -0.053524  -0.044307  \n",
       "TITLE1     -0.037468  -0.022483  -0.022483  -0.015554  \n",
       "TITLE2      0.054547   0.029801   0.029801   0.020577  \n",
       "CUISINES1   0.040257   0.037962   0.037962   0.034275  \n",
       "CUISINES2   0.088306   0.055967   0.055967   0.047818  \n",
       "CUISINES3   0.141670   0.097392   0.097392   0.078146  \n",
       "CUISINES4   0.278534   0.180257   0.180257   0.132577  \n",
       "CUISINES5   0.491222   0.322652   0.322652   0.216473  \n",
       "CUISINES6   1.000000   0.514857   0.514857   0.318110  \n",
       "CUISINES7   0.514857   1.000000   1.000000   0.582445  \n",
       "CUISINES8   0.514857   1.000000   1.000000   0.582445  \n",
       "CUISINES9   0.318110   0.582445   0.582445   1.000000  "
      ]
     },
     "execution_count": 501,
     "metadata": {},
     "output_type": "execute_result"
    }
   ],
   "source": [
    "df_train.corr()"
   ]
  },
  {
   "cell_type": "code",
   "execution_count": 503,
   "metadata": {},
   "outputs": [
    {
     "data": {
      "text/plain": [
       "<matplotlib.axes._subplots.AxesSubplot at 0x203dfb5eec8>"
      ]
     },
     "execution_count": 503,
     "metadata": {},
     "output_type": "execute_result"
    },
    {
     "data": {
      "image/png": "[encoded data removed]",
      "text/plain": [
       "<Figure size 720x576 with 2 Axes>"
      ]
     },
     "metadata": {
      "needs_background": "light"
     },
     "output_type": "display_data"
    }
   ],
   "source": [
    "plt.figure(figsize=(10,8))\n",
    "sns.heatmap(df_train.corr(),annot=True)"
   ]
  },
  {
   "cell_type": "markdown",
   "metadata": {},
   "source": [
    "Here we can see the relation of independent variable with dependent variable......cost is highly related with rating and votes"
   ]
  },
  {
   "cell_type": "markdown",
   "metadata": {},
   "source": [
    "# setting x and y variable"
   ]
  },
  {
   "cell_type": "code",
   "execution_count": 504,
   "metadata": {},
   "outputs": [
    {
     "data": {
      "text/plain": [
       "(12690, 15)"
      ]
     },
     "execution_count": 504,
     "metadata": {},
     "output_type": "execute_result"
    }
   ],
   "source": [
    "x_train=df_train.drop('COST',axis=1)\n",
    "x_train.shape"
   ]
  },
  {
   "cell_type": "code",
   "execution_count": 505,
   "metadata": {},
   "outputs": [
    {
     "data": {
      "text/plain": [
       "(12690,)"
      ]
     },
     "execution_count": 505,
     "metadata": {},
     "output_type": "execute_result"
    }
   ],
   "source": [
    "y_train=df_train['COST']\n",
    "y_train.shape"
   ]
  },
  {
   "cell_type": "code",
   "execution_count": 506,
   "metadata": {},
   "outputs": [
    {
     "data": {
      "text/plain": [
       "(4231, 15)"
      ]
     },
     "execution_count": 506,
     "metadata": {},
     "output_type": "execute_result"
    }
   ],
   "source": [
    "x_test=df_test\n",
    "x_test.shape"
   ]
  },
  {
   "cell_type": "markdown",
   "metadata": {},
   "source": [
    "# Regression"
   ]
  },
  {
   "cell_type": "code",
   "execution_count": 507,
   "metadata": {},
   "outputs": [],
   "source": [
    "from sklearn.model_selection import train_test_split,cross_val_score,GridSearchCV\n",
    "from sklearn.linear_model import LinearRegression\n",
    "from sklearn.metrics import mean_squared_error,mean_absolute_error,r2_score"
   ]
  },
  {
   "cell_type": "markdown",
   "metadata": {},
   "source": [
    "# LinearRegression"
   ]
  },
  {
   "cell_type": "code",
   "execution_count": 508,
   "metadata": {},
   "outputs": [
    {
     "data": {
      "text/plain": [
       "0.17455982572969686"
      ]
     },
     "execution_count": 508,
     "metadata": {},
     "output_type": "execute_result"
    }
   ],
   "source": [
    "lr=LinearRegression()\n",
    "lr.fit(x_train,y_train)\n",
    "lr.score(x_train,y_train)"
   ]
  },
  {
   "cell_type": "code",
   "execution_count": 509,
   "metadata": {},
   "outputs": [
    {
     "name": "stdout",
     "output_type": "stream",
     "text": [
      "[897.71346902 754.1764179  935.21566877 ... 923.17621962  76.51119217\n",
      " 651.4090975 ]\n"
     ]
    }
   ],
   "source": [
    "pred_y=lr.predict(x_test)\n",
    "print((pred_y))"
   ]
  },
  {
   "cell_type": "code",
   "execution_count": 510,
   "metadata": {},
   "outputs": [
    {
     "name": "stdout",
     "output_type": "stream",
     "text": [
      "[0.15159815 0.16454665 0.13024724 0.17817505 0.2074337 ]\n",
      "0.16640015707775715\n",
      "0.02589195986187418\n"
     ]
    }
   ],
   "source": [
    "score=cross_val_score(lr,x_train,y_train,cv=5,scoring='r2')\n",
    "print(score)\n",
    "print(score.mean())\n",
    "print(score.std())"
   ]
  },
  {
   "cell_type": "markdown",
   "metadata": {},
   "source": [
    "# Lasso"
   ]
  },
  {
   "cell_type": "code",
   "execution_count": 511,
   "metadata": {},
   "outputs": [
    {
     "data": {
      "text/plain": [
       "{'alpha': 1}"
      ]
     },
     "execution_count": 511,
     "metadata": {},
     "output_type": "execute_result"
    }
   ],
   "source": [
    "from sklearn.linear_model import Lasso\n",
    "lsr=Lasso()\n",
    "pr={'alpha':[.0001,.001,.01,.1,1]}\n",
    "gs=GridSearchCV(lsr,pr,cv=5)\n",
    "gs.fit(x_train,y_train)\n",
    "gs.best_params_"
   ]
  },
  {
   "cell_type": "code",
   "execution_count": 512,
   "metadata": {},
   "outputs": [
    {
     "data": {
      "text/plain": [
       "0.1745561453722626"
      ]
     },
     "execution_count": 512,
     "metadata": {},
     "output_type": "execute_result"
    }
   ],
   "source": [
    "lsr=Lasso(alpha=1)\n",
    "lsr.fit(x_train,y_train)\n",
    "lsr.score(x_train,y_train)"
   ]
  },
  {
   "cell_type": "code",
   "execution_count": 513,
   "metadata": {},
   "outputs": [
    {
     "name": "stdout",
     "output_type": "stream",
     "text": [
      "[896.99525885 753.62887022 935.19399689 ... 923.27969806  79.243655\n",
      " 650.89165115]\n"
     ]
    }
   ],
   "source": [
    "pred_y=lsr.predict(x_test)\n",
    "print((pred_y))"
   ]
  },
  {
   "cell_type": "code",
   "execution_count": 514,
   "metadata": {},
   "outputs": [
    {
     "name": "stdout",
     "output_type": "stream",
     "text": [
      "[0.15165576 0.16457195 0.13014974 0.17820078 0.207483  ]\n",
      "0.1664122450816477\n",
      "0.025930239093306214\n"
     ]
    }
   ],
   "source": [
    "score=cross_val_score(lsr,x_train,y_train,cv=5,scoring='r2')\n",
    "print(score)\n",
    "print(score.mean())\n",
    "print(score.std())"
   ]
  },
  {
   "cell_type": "markdown",
   "metadata": {},
   "source": [
    "# KNeighborsregressor"
   ]
  },
  {
   "cell_type": "code",
   "execution_count": 515,
   "metadata": {},
   "outputs": [
    {
     "data": {
      "text/plain": [
       "{'n_neighbors': 27}"
      ]
     },
     "execution_count": 515,
     "metadata": {},
     "output_type": "execute_result"
    }
   ],
   "source": [
    "from sklearn.neighbors import KNeighborsRegressor\n",
    "knn=KNeighborsRegressor()\n",
    "pr={'n_neighbors':range(1,30)}\n",
    "gs=GridSearchCV(knn,pr,cv=5)\n",
    "gs.fit(x_train,y_train)\n",
    "gs.best_params_"
   ]
  },
  {
   "cell_type": "code",
   "execution_count": 516,
   "metadata": {},
   "outputs": [
    {
     "data": {
      "text/plain": [
       "0.23903752470309303"
      ]
     },
     "execution_count": 516,
     "metadata": {},
     "output_type": "execute_result"
    }
   ],
   "source": [
    "knn=KNeighborsRegressor(n_neighbors=27)\n",
    "knn.fit(x_train,y_train)\n",
    "knn.score(x_train,y_train)"
   ]
  },
  {
   "cell_type": "code",
   "execution_count": 517,
   "metadata": {},
   "outputs": [
    {
     "name": "stdout",
     "output_type": "stream",
     "text": [
      "[922.22222222 500.         935.18518519 ... 727.77777778 535.18518519\n",
      " 364.81481481]\n"
     ]
    }
   ],
   "source": [
    "pred_y=knn.predict(x_test)\n",
    "print((pred_y))"
   ]
  },
  {
   "cell_type": "code",
   "execution_count": 518,
   "metadata": {},
   "outputs": [
    {
     "name": "stdout",
     "output_type": "stream",
     "text": [
      "[0.15060775 0.17187536 0.15692581 0.18712393 0.20085585]\n",
      "0.173477739992582\n",
      "0.018629816180138065\n"
     ]
    }
   ],
   "source": [
    "score=cross_val_score(knn,x_train,y_train,cv=5,scoring='r2')\n",
    "print(score)\n",
    "print(score.mean())\n",
    "print(score.std())"
   ]
  },
  {
   "cell_type": "markdown",
   "metadata": {},
   "source": [
    "# GradientBoostingRegressor"
   ]
  },
  {
   "cell_type": "code",
   "execution_count": 519,
   "metadata": {},
   "outputs": [
    {
     "data": {
      "text/plain": [
       "{'learning_rate': 0.1, 'n_estimators': 300}"
      ]
     },
     "execution_count": 519,
     "metadata": {},
     "output_type": "execute_result"
    }
   ],
   "source": [
    "from sklearn.ensemble import GradientBoostingRegressor\n",
    "gb=GradientBoostingRegressor()\n",
    "pr={'learning_rate':[.0001,.001,.01,.1,1],'n_estimators':[10,50,100,150,200,250,300]}\n",
    "gs=GridSearchCV(gb,pr,cv=5)\n",
    "gs.fit(x_train,y_train)\n",
    "gs.best_params_"
   ]
  },
  {
   "cell_type": "code",
   "execution_count": 520,
   "metadata": {},
   "outputs": [
    {
     "data": {
      "text/plain": [
       "0.7699252586069099"
      ]
     },
     "execution_count": 520,
     "metadata": {},
     "output_type": "execute_result"
    }
   ],
   "source": [
    "gb=GradientBoostingRegressor(learning_rate=0.1,n_estimators=300)\n",
    "gb.fit(x_train,y_train)\n",
    "gb.score(x_train,y_train)"
   ]
  },
  {
   "cell_type": "code",
   "execution_count": 521,
   "metadata": {},
   "outputs": [
    {
     "name": "stdout",
     "output_type": "stream",
     "text": [
      "[1036.00093931 1425.28393505  665.45319232 ...  646.19983896  435.53824662\n",
      "  408.05918331]\n"
     ]
    }
   ],
   "source": [
    "pred_y=gb.predict(x_test)\n",
    "print((pred_y))"
   ]
  },
  {
   "cell_type": "code",
   "execution_count": 522,
   "metadata": {},
   "outputs": [
    {
     "name": "stdout",
     "output_type": "stream",
     "text": [
      "[0.65237755 0.74148075 0.7391794  0.72059707 0.76781946]\n",
      "0.7242908456926478\n",
      "0.03897965677453707\n"
     ]
    }
   ],
   "source": [
    "score=cross_val_score(gb,x_train,y_train,cv=5,scoring='r2')\n",
    "print(score)\n",
    "print(score.mean())\n",
    "print(score.std())"
   ]
  },
  {
   "cell_type": "markdown",
   "metadata": {},
   "source": [
    "# RandomForestRegressor"
   ]
  },
  {
   "cell_type": "code",
   "execution_count": 523,
   "metadata": {},
   "outputs": [
    {
     "data": {
      "text/plain": [
       "{'n_estimators': 150}"
      ]
     },
     "execution_count": 523,
     "metadata": {},
     "output_type": "execute_result"
    }
   ],
   "source": [
    "from sklearn.ensemble import RandomForestRegressor\n",
    "re=RandomForestRegressor()\n",
    "pr={'n_estimators':[10,50,100,150,200,250,300]}\n",
    "gs=GridSearchCV(re,pr,cv=5)\n",
    "gs.fit(x_train,y_train)\n",
    "gs.best_params_\n"
   ]
  },
  {
   "cell_type": "code",
   "execution_count": 524,
   "metadata": {},
   "outputs": [
    {
     "data": {
      "text/plain": [
       "0.9587869914846806"
      ]
     },
     "execution_count": 524,
     "metadata": {},
     "output_type": "execute_result"
    }
   ],
   "source": [
    "re=RandomForestRegressor(n_estimators=150)\n",
    "re.fit(x_train,y_train)\n",
    "re.score(x_train,y_train)"
   ]
  },
  {
   "cell_type": "code",
   "execution_count": 525,
   "metadata": {},
   "outputs": [
    {
     "name": "stdout",
     "output_type": "stream",
     "text": [
      "[1124.33333333 1505.33333333  715.33333333 ...  606.33333333  377.93333333\n",
      "  279.26666667]\n"
     ]
    }
   ],
   "source": [
    "pred_y=re.predict(x_test)\n",
    "print((pred_y))"
   ]
  },
  {
   "cell_type": "code",
   "execution_count": 526,
   "metadata": {},
   "outputs": [
    {
     "name": "stdout",
     "output_type": "stream",
     "text": [
      "[0.64496325 0.73486907 0.67421573 0.68988911 0.75103298]\n",
      "0.6989940280443981\n",
      "0.03901604791970433\n"
     ]
    }
   ],
   "source": [
    "score=cross_val_score(re,x_train,y_train,cv=5,scoring='r2')\n",
    "print(score)\n",
    "print(score.mean())\n",
    "print(score.std())"
   ]
  },
  {
   "cell_type": "markdown",
   "metadata": {},
   "source": [
    "# Saving the Prediction"
   ]
  },
  {
   "cell_type": "markdown",
   "metadata": {},
   "source": [
    "in this dataset the randomforestregressor is performing good.....so we select the randomforestregressor for this dataset"
   ]
  },
  {
   "cell_type": "code",
   "execution_count": 527,
   "metadata": {},
   "outputs": [
    {
     "name": "stdout",
     "output_type": "stream",
     "text": [
      "[1124.33333333 1505.33333333  715.33333333 ...  606.33333333  377.93333333\n",
      "  279.26666667]\n"
     ]
    }
   ],
   "source": [
    "pred=re.predict(x_test)\n",
    "print((pred))"
   ]
  },
  {
   "cell_type": "code",
   "execution_count": 528,
   "metadata": {},
   "outputs": [],
   "source": [
    "y_pred=(pred)"
   ]
  },
  {
   "cell_type": "code",
   "execution_count": 529,
   "metadata": {},
   "outputs": [],
   "source": [
    "y_pred=pd.DataFrame(y_pred)"
   ]
  },
  {
   "cell_type": "code",
   "execution_count": 530,
   "metadata": {},
   "outputs": [],
   "source": [
    "y_pred.to_csv('prediction_y_food_cost.csv')"
   ]
  },
  {
   "cell_type": "code",
   "execution_count": 531,
   "metadata": {},
   "outputs": [
    {
     "data": {
      "text/html": [
       "<div>\n",
       "<style scoped>\n",
       "    .dataframe tbody tr th:only-of-type {\n",
       "        vertical-align: middle;\n",
       "    }\n",
       "\n",
       "    .dataframe tbody tr th {\n",
       "        vertical-align: top;\n",
       "    }\n",
       "\n",
       "    .dataframe thead th {\n",
       "        text-align: right;\n",
       "    }\n",
       "</style>\n",
       "<table border=\"1\" class=\"dataframe\">\n",
       "  <thead>\n",
       "    <tr style=\"text-align: right;\">\n",
       "      <th></th>\n",
       "      <th>0</th>\n",
       "    </tr>\n",
       "  </thead>\n",
       "  <tbody>\n",
       "    <tr>\n",
       "      <th>0</th>\n",
       "      <td>1124.333333</td>\n",
       "    </tr>\n",
       "    <tr>\n",
       "      <th>1</th>\n",
       "      <td>1505.333333</td>\n",
       "    </tr>\n",
       "    <tr>\n",
       "      <th>2</th>\n",
       "      <td>715.333333</td>\n",
       "    </tr>\n",
       "    <tr>\n",
       "      <th>3</th>\n",
       "      <td>479.000000</td>\n",
       "    </tr>\n",
       "    <tr>\n",
       "      <th>4</th>\n",
       "      <td>304.333333</td>\n",
       "    </tr>\n",
       "    <tr>\n",
       "      <th>...</th>\n",
       "      <td>...</td>\n",
       "    </tr>\n",
       "    <tr>\n",
       "      <th>4226</th>\n",
       "      <td>482.000000</td>\n",
       "    </tr>\n",
       "    <tr>\n",
       "      <th>4227</th>\n",
       "      <td>398.333333</td>\n",
       "    </tr>\n",
       "    <tr>\n",
       "      <th>4228</th>\n",
       "      <td>606.333333</td>\n",
       "    </tr>\n",
       "    <tr>\n",
       "      <th>4229</th>\n",
       "      <td>377.933333</td>\n",
       "    </tr>\n",
       "    <tr>\n",
       "      <th>4230</th>\n",
       "      <td>279.266667</td>\n",
       "    </tr>\n",
       "  </tbody>\n",
       "</table>\n",
       "<p>4231 rows × 1 columns</p>\n",
       "</div>"
      ],
      "text/plain": [
       "                0\n",
       "0     1124.333333\n",
       "1     1505.333333\n",
       "2      715.333333\n",
       "3      479.000000\n",
       "4      304.333333\n",
       "...           ...\n",
       "4226   482.000000\n",
       "4227   398.333333\n",
       "4228   606.333333\n",
       "4229   377.933333\n",
       "4230   279.266667\n",
       "\n",
       "[4231 rows x 1 columns]"
      ]
     },
     "execution_count": 531,
     "metadata": {},
     "output_type": "execute_result"
    }
   ],
   "source": [
    "y_pred"
   ]
  },
  {
   "cell_type": "code",
   "execution_count": null,
   "metadata": {},
   "outputs": [],
   "source": []
  }
 ],
 "metadata": {
  "kernelspec": {
   "display_name": "Python 3",
   "language": "python",
   "name": "python3"
  },
  "language_info": {
   "codemirror_mode": {
    "name": "ipython",
    "version": 3
   },
   "file_extension": ".py",
   "mimetype": "text/x-python",
   "name": "python",
   "nbconvert_exporter": "python",
   "pygments_lexer": "ipython3",
   "version": "3.7.6"
  }
 },
 "nbformat": 4,
 "nbformat_minor": 4
}
